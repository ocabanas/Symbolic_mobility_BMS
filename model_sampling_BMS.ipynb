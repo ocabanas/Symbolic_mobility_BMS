{
 "cells": [
  {
   "cell_type": "code",
   "execution_count": 1,
   "id": "0c76eeac",
   "metadata": {},
   "outputs": [],
   "source": [
    "mcmc_resets = 1\n",
    "mcmc_steps = 5000\n",
    "mcmc_ens_avg=[4000,100]\n",
    "log_flows = True\n",
    "log_flows = True\n",
    "#\"\"\"\n",
    "XLABS = [\n",
    "    'd',\n",
    "    'm_o',\n",
    "    'm_d']\n",
    "params = 6\n"
   ]
  },
  {
   "cell_type": "code",
   "execution_count": 2,
   "id": "f17adabe",
   "metadata": {
    "scrolled": true
   },
   "outputs": [],
   "source": [
    "import pandas as pd\n",
    "import numpy as np\n",
    "import sys\n",
    "import warnings\n",
    "import gc\n",
    "warnings.filterwarnings('ignore')\n",
    "\n",
    "import matplotlib.pyplot as plt\n",
    "from copy import deepcopy,copy\n",
    "from ipywidgets import IntProgress\n",
    "from itertools import chain\n",
    "from IPython.display import display\n",
    "from datetime import datetime\n",
    "import pickle\n",
    "import os\n",
    "# Since the 'user' column do not have relevant information will not be read\n",
    "\n",
    "# Import Machine Scientist\n",
    "from importlib.machinery import SourceFileLoader\n",
    "abs_path = os.path.abspath('')\n",
    "path = f'{abs_path}/rguimera-machine-scientist/machinescientist.py'\n",
    "ms = SourceFileLoader('ms', path).load_module()\n",
    "\n",
    "# Read data\n",
    "states=['New York','Massachusetts','California','Florida','Washington','Texas']\n"
   ]
  },
  {
   "cell_type": "markdown",
   "id": "03efdef6",
   "metadata": {},
   "source": [
    "### Train/Test"
   ]
  },
  {
   "cell_type": "code",
   "execution_count": 3,
   "id": "9cf07fc5",
   "metadata": {},
   "outputs": [],
   "source": [
    "name=open('./data/checkpoints/fold1_sample_dataframes_2022_11_02-02_54_03.pkl', \"rb\")\n",
    "train_list_sample=pickle.load(name)\n",
    "name.close()\n",
    "fold='fold1'"
   ]
  },
  {
   "cell_type": "markdown",
   "id": "0126b3ca",
   "metadata": {},
   "source": [
    "### Computing natural logarithm of population flow"
   ]
  },
  {
   "cell_type": "code",
   "execution_count": 4,
   "id": "5e5523a7",
   "metadata": {},
   "outputs": [
    {
     "name": "stdout",
     "output_type": "stream",
     "text": [
      "                          name_o          name_d  total_pop_flow          d  \\\n",
      "14594  Jefferson Valley-Yorktown  Heritage Hills        4.465908   8.604705   \n",
      "10842                      Coram         Syosset        5.993961  42.363684   \n",
      "14394                      Islip     Garden City        6.230481  36.177391   \n",
      "12424            Franklin Square  Huntington Bay        4.158883  31.783607   \n",
      "14749                 Kings Park        Copiague        4.709530  27.087126   \n",
      "\n",
      "                s     area_o     area_d    m_o    m_d  food_point_o  ...  \\\n",
      "14594     14828.0  18.023643   4.833175  14444   4511             0  ...   \n",
      "10842   1431584.0  35.809365  12.885287  40220  19259             6  ...   \n",
      "14394   2047849.0  12.292964  13.799905  18418  23272            17  ...   \n",
      "12424  10911308.0   7.458918   2.585393  30903   1446            47  ...   \n",
      "14749   1289844.0  17.279484   8.008831  17085  23429             5  ...   \n",
      "\n",
      "       commercial_landuse_d  retail_point_d  retail_poly_d  school_point_d  \\\n",
      "14594                     0               0       0.000000               0   \n",
      "10842                     3             255       0.678554              35   \n",
      "14394                     8              69       3.599027              60   \n",
      "12424                     0               2       0.000775               0   \n",
      "14749                     0             360       0.266450               8   \n",
      "\n",
      "       school_poly_d  transport_point_d  transport_poly_d  \\\n",
      "14594       0.000000                  1          0.000906   \n",
      "10842       0.682843                 41          0.165103   \n",
      "14394       0.780191                211          0.504270   \n",
      "12424       0.000000                  1          0.001903   \n",
      "14749       0.269888                 29          0.125342   \n",
      "\n",
      "       entertainment_point_d  entertainment_poly_d          sk  \n",
      "14594                      0              0.000000       554.0  \n",
      "10842                     65              0.625437   4032785.0  \n",
      "14394                    171              2.471141   7720250.0  \n",
      "12424                      8              0.282326  12049922.0  \n",
      "14749                     45              0.748283   4055938.0  \n",
      "\n",
      "[5 rows x 46 columns]\n",
      "           name_o           name_d  total_pop_flow           d          s  \\\n",
      "4385  Smith Mills       Fall River        8.085795   11.818502   114309.0   \n",
      "47    Palmer Town       Longmeadow        5.225747   26.738818   247693.0   \n",
      "1245  Marlborough       Cochituate        5.105945   16.203327   117752.0   \n",
      "584     Westfield   North Pembroke        4.343805  162.764296  4371134.0   \n",
      "3386         Hull  Barnstable Town        5.389072   87.109046  4026564.0   \n",
      "\n",
      "          area_o      area_d    m_o    m_d  food_point_o  ...  \\\n",
      "4385   12.089543   85.787944   4832  94000            31  ...   \n",
      "47     81.782338   23.541604  12448  15853             5  ...   \n",
      "1245   54.037559    9.864982  41793   6927            42  ...   \n",
      "584   119.814349   11.590054  40834   3490            27  ...   \n",
      "3386    7.437835  155.215093  10072  48916            18  ...   \n",
      "\n",
      "      commercial_landuse_d  retail_point_d  retail_poly_d  school_point_d  \\\n",
      "4385                     4              78       0.497348             121   \n",
      "47                       0               5       0.079426              25   \n",
      "1245                     0               3       0.003204               8   \n",
      "584                      0               6       0.004879               2   \n",
      "3386                     3             205       0.400241              58   \n",
      "\n",
      "      school_poly_d  transport_point_d  transport_poly_d  \\\n",
      "4385       1.521431                413          0.186308   \n",
      "47         0.638911                394          0.129607   \n",
      "1245       0.271782                 25          0.020166   \n",
      "584        0.090574                  3          0.001394   \n",
      "3386       1.759136                952          3.583159   \n",
      "\n",
      "      entertainment_point_d  entertainment_poly_d         sk  \n",
      "4385                    158             40.678022    76595.0  \n",
      "47                      208              9.490879   285799.0  \n",
      "1245                     33              5.502044   117961.0  \n",
      "584                      19              2.187564  5422194.0  \n",
      "3386                   1070             36.236801  5016308.0  \n",
      "\n",
      "[5 rows x 46 columns]\n",
      "                name_o           name_d  total_pop_flow           d  \\\n",
      "18699    Monterey Park    Moreno Valley        5.843544   86.638123   \n",
      "4322          Woodland           Merced        4.691348  188.361327   \n",
      "30293         Pasadena        Paramount        6.148468   29.221500   \n",
      "18137         Industry    Moreno Valley        4.955827   68.703853   \n",
      "40976  El Dorado Hills  North Highlands        5.894403   28.169517   \n",
      "\n",
      "                s      area_o      area_d     m_o     m_d  food_point_o  ...  \\\n",
      "18699  15536088.0   19.870660  132.938278   61096  208634            65  ...   \n",
      "4322   11163808.0   39.665023   60.228129   61032   86333            50  ...   \n",
      "30293   2671393.0   59.471291   12.242010  138699   53733           362  ...   \n",
      "18137  14784823.0   30.508618  132.938278     264  208634            46  ...   \n",
      "40976    794376.0  125.511003   22.821705   50547   49327            18  ...   \n",
      "\n",
      "       commercial_landuse_d  retail_point_d  retail_poly_d  school_point_d  \\\n",
      "18699                    11             178       1.555328             195   \n",
      "4322                     23             340       0.357426             208   \n",
      "30293                     0             458       0.525646              36   \n",
      "18137                    11             178       1.555328             195   \n",
      "40976                     1             118       0.175866              92   \n",
      "\n",
      "       school_poly_d  transport_point_d  transport_poly_d  \\\n",
      "18699       3.178928                 80          0.257924   \n",
      "4322        2.300931                 88          1.889095   \n",
      "30293       0.661222                112          0.061534   \n",
      "18137       3.178928                 80          0.257924   \n",
      "40976       0.933954                 37          9.929276   \n",
      "\n",
      "       entertainment_point_d  entertainment_poly_d          sk  \n",
      "18699                    249             69.117495  42992066.0  \n",
      "4322                     180              1.069656  20950050.0  \n",
      "30293                     39              0.540226   8262895.0  \n",
      "18137                    249             69.117495  42255805.0  \n",
      "40976                    111              0.762532   2611758.0  \n",
      "\n",
      "[5 rows x 46 columns]\n",
      "                 name_o             name_d  total_pop_flow           d  \\\n",
      "1312   Royal Palm Beach       Jacksonville        5.129899  428.073677   \n",
      "791             Sunrise  North Bay Village        3.970292   37.522141   \n",
      "27160  Zephyrhills West             Elfers        3.951244   50.669127   \n",
      "5135         Sweetwater      Pembroke Park        4.356709   30.490761   \n",
      "4291        Cocoa Beach          Melbourne        7.210818   24.561629   \n",
      "\n",
      "                s     area_o       area_d    m_o     m_d  food_point_o  ...  \\\n",
      "1312   13768828.0  29.381909  1935.492088  38932  949611            19  ...   \n",
      "791     2725973.0  41.953996     0.957592  97335    8159            81  ...   \n",
      "27160   1909284.0   6.813080     9.652261   5533   14573             0  ...   \n",
      "5135    2597536.0   5.677502     3.573323  19363    6260            21  ...   \n",
      "4291     164673.0  12.064959   114.356930  11354   84678            77  ...   \n",
      "\n",
      "       commercial_landuse_d  retail_point_d  retail_poly_d  school_point_d  \\\n",
      "1312                   1849            2823      22.814659             644   \n",
      "791                       0               5       0.009479               3   \n",
      "27160                    51              42       0.164045              34   \n",
      "5135                      1               3       0.001090               6   \n",
      "4291                     12             192       2.204947              47   \n",
      "\n",
      "       school_poly_d  transport_point_d  transport_poly_d  \\\n",
      "1312       18.307971               4138         59.018152   \n",
      "791         0.050862                 15          0.006058   \n",
      "27160       0.274320                 13          0.018807   \n",
      "5135        0.247487                  4          0.011368   \n",
      "4291        1.178387                380         10.436218   \n",
      "\n",
      "       entertainment_point_d  entertainment_poly_d          sk  \n",
      "1312                    4672            158.309291  21778764.0  \n",
      "791                       15              0.030191   6069272.0  \n",
      "27160                     35              0.023016   4308966.0  \n",
      "5135                      16              0.497822   4130103.0  \n",
      "4291                     309              4.076559    249666.0  \n",
      "\n",
      "[5 rows x 46 columns]\n",
      "            name_o        name_d  total_pop_flow          d          s  \\\n",
      "6851   Shadow Lake     Covington        6.167516   4.950706     3873.0   \n",
      "6301  Monroe North    Chain Lake        5.318120   2.165625        0.0   \n",
      "5530  Lake Cassidy  Monroe North        6.270988  21.538321   292368.0   \n",
      "7636   Woods Creek    Burlington        4.477337  72.713777  3088011.0   \n",
      "2474       Redmond       Olympia        4.919981  92.036886  3990120.0   \n",
      "\n",
      "         area_o     area_d    m_o    m_d  food_point_o  ...  \\\n",
      "6851  13.452461  15.363374   2396  20777             0  ...   \n",
      "6301   6.149309  28.246478   1796   4806             0  ...   \n",
      "5530  27.429267   6.149309   3757   1796             2  ...   \n",
      "7636  36.347083  11.087338   6017   9152             2  ...   \n",
      "2474  42.908263  47.191176  73256  55605           196  ...   \n",
      "\n",
      "      commercial_landuse_d  retail_point_d  retail_poly_d  school_point_d  \\\n",
      "6851                    20             114       0.516830              19   \n",
      "6301                     1               0       0.000000               2   \n",
      "5530                     0               0       0.000000               0   \n",
      "7636                     6             144       0.730840              12   \n",
      "2474                    13             330       0.568304              84   \n",
      "\n",
      "      school_poly_d  transport_point_d  transport_poly_d  \\\n",
      "6851       0.706435                 66          0.151963   \n",
      "6301       0.048230                  1          0.003793   \n",
      "5530       0.000000                 16          0.270656   \n",
      "7636       0.122241                163          0.425202   \n",
      "2474       1.444098               3486          0.675593   \n",
      "\n",
      "      entertainment_point_d  entertainment_poly_d         sk  \n",
      "6851                    192              4.445976     1194.0  \n",
      "6301                      3              0.555190        0.0  \n",
      "5530                     27              0.272263   559359.0  \n",
      "7636                     40              0.774797  5166074.0  \n",
      "2474                   1849              4.615587  7027940.0  \n",
      "\n",
      "[5 rows x 46 columns]\n",
      "              name_o       name_d  total_pop_flow           d           s  \\\n",
      "13351         Rendon    Kennedale        6.126869    7.376479      6154.0   \n",
      "10076  Grand Prairie  Weatherford        4.290459   70.664761   6358237.0   \n",
      "8718        McKinney   Whitehouse        3.951244  173.491172   6911540.0   \n",
      "6041          Hebron       Denton        5.164786   30.380603   3614099.0   \n",
      "148           Temple    Plainview        3.433987  531.179141  18441149.0   \n",
      "\n",
      "           area_o      area_d     m_o     m_d  food_point_o  ...  \\\n",
      "13351   63.794052   17.117502   13533    8517             5  ...   \n",
      "10076  187.802276   70.732401  196100   30854           116  ...   \n",
      "8718   173.433210   14.233861  195308    8257           130  ...   \n",
      "6041     0.851639  250.652062     803  139869            34  ...   \n",
      "148    185.196036   35.987805   82073   20187            23  ...   \n",
      "\n",
      "       commercial_landuse_d  retail_point_d  retail_poly_d  school_point_d  \\\n",
      "13351                     0               4       0.089568               7   \n",
      "10076                    17             105       1.853326              20   \n",
      "8718                      0               6       0.012831              15   \n",
      "6041                      5             259       2.789143             128   \n",
      "148                       0              54       0.258711              43   \n",
      "\n",
      "       school_poly_d  transport_point_d  transport_poly_d  \\\n",
      "13351       0.392357                  4          0.006850   \n",
      "10076       0.919715                 31          0.186586   \n",
      "8718        0.626326                  3          0.026375   \n",
      "6041        5.231968                534          4.321315   \n",
      "148         0.635428                 29          2.348066   \n",
      "\n",
      "       entertainment_point_d  entertainment_poly_d          sk  \n",
      "13351                     33              0.439281      5285.0  \n",
      "10076                     55              1.228425   8342659.0  \n",
      "8718                      33              0.193252   8644967.0  \n",
      "6041                     578              8.086231   5569669.0  \n",
      "148                       67              1.849748  14969457.0  \n",
      "\n",
      "[5 rows x 46 columns]\n"
     ]
    }
   ],
   "source": [
    "if log_flows==True:\n",
    "    for i,key in enumerate(states):\n",
    "        train_list_sample[states[i]]['total_pop_flow']=train_list_sample[states[i]]['total_pop_flow'].apply(lambda x : np.log(x))\n",
    "        print(train_list_sample[states[i]].head())\n",
    "    log_scale=False\n",
    "else:\n",
    "    log_scale=True"
   ]
  },
  {
   "cell_type": "markdown",
   "id": "83600193",
   "metadata": {},
   "source": [
    "# Machine Scientist"
   ]
  },
  {
   "cell_type": "markdown",
   "id": "21cc2d2f",
   "metadata": {},
   "source": [
    "## BMS C: One model, multiDataFrame"
   ]
  },
  {
   "cell_type": "code",
   "execution_count": 5,
   "id": "58bf1f5c",
   "metadata": {
    "scrolled": true
   },
   "outputs": [
    {
     "name": "stdout",
     "output_type": "stream",
     "text": [
      "Progress: 91%  | 0.16 MCs/s | Time left: 18.08min.                  \r"
     ]
    },
    {
     "ename": "TypeError",
     "evalue": "Cannot cast array data from dtype('complex128') to dtype('float64') according to the rule 'safe'",
     "output_type": "error",
     "traceback": [
      "\u001b[0;31m---------------------------------------------------------------------------\u001b[0m",
      "\u001b[0;31mKeyError\u001b[0m                                  Traceback (most recent call last)",
      "\u001b[0;32m/export/home/shared/Projects/City_flows/Symbolic_mobility_BMS/rguimera-machine-scientist/mcmc.py\u001b[0m in \u001b[0;36mupdate_representative\u001b[0;34m(self, verbose)\u001b[0m\n\u001b[1;32m    731\u001b[0m         \u001b[0;32mtry\u001b[0m\u001b[0;34m:\u001b[0m             \u001b[0;31m# We've seen this canonical before!\u001b[0m\u001b[0;34m\u001b[0m\u001b[0;34m\u001b[0m\u001b[0m\n\u001b[0;32m--> 732\u001b[0;31m             \u001b[0mrep\u001b[0m\u001b[0;34m,\u001b[0m \u001b[0mrep_energy\u001b[0m\u001b[0;34m,\u001b[0m \u001b[0mrep_par_values\u001b[0m \u001b[0;34m=\u001b[0m \u001b[0mself\u001b[0m\u001b[0;34m.\u001b[0m\u001b[0mrepresentative\u001b[0m\u001b[0;34m[\u001b[0m\u001b[0mcanonical\u001b[0m\u001b[0;34m]\u001b[0m\u001b[0;34m\u001b[0m\u001b[0;34m\u001b[0m\u001b[0m\n\u001b[0m\u001b[1;32m    733\u001b[0m         \u001b[0;32mexcept\u001b[0m \u001b[0mKeyError\u001b[0m\u001b[0;34m:\u001b[0m \u001b[0;31m# Never seen this canonical formula before:\u001b[0m\u001b[0;34m\u001b[0m\u001b[0;34m\u001b[0m\u001b[0m\n",
      "\u001b[0;31mKeyError\u001b[0m: 'c1+(c2+(c3+c4*log(c3+m_d))*(I*pi*c5+exp(d**(c4*c6/c3))))**3'",
      "\nDuring handling of the above exception, another exception occurred:\n",
      "\u001b[0;31mTypeError\u001b[0m                                 Traceback (most recent call last)",
      "\u001b[0;31mTypeError\u001b[0m: Cannot cast array data from dtype('complex128') to dtype('float64') according to the rule 'safe'"
     ]
    },
    {
     "ename": "TypeError",
     "evalue": "Cannot cast array data from dtype('complex128') to dtype('float64') according to the rule 'safe'",
     "output_type": "error",
     "traceback": [
      "\u001b[0;31m---------------------------------------------------------------------------\u001b[0m",
      "\u001b[0;31mKeyError\u001b[0m                                  Traceback (most recent call last)",
      "\u001b[0;32m/export/home/shared/Projects/City_flows/Symbolic_mobility_BMS/rguimera-machine-scientist/mcmc.py\u001b[0m in \u001b[0;36mupdate_representative\u001b[0;34m(self, verbose)\u001b[0m\n\u001b[1;32m    731\u001b[0m         \u001b[0;32mtry\u001b[0m\u001b[0;34m:\u001b[0m             \u001b[0;31m# We've seen this canonical before!\u001b[0m\u001b[0;34m\u001b[0m\u001b[0;34m\u001b[0m\u001b[0m\n\u001b[0;32m--> 732\u001b[0;31m             \u001b[0mrep\u001b[0m\u001b[0;34m,\u001b[0m \u001b[0mrep_energy\u001b[0m\u001b[0;34m,\u001b[0m \u001b[0mrep_par_values\u001b[0m \u001b[0;34m=\u001b[0m \u001b[0mself\u001b[0m\u001b[0;34m.\u001b[0m\u001b[0mrepresentative\u001b[0m\u001b[0;34m[\u001b[0m\u001b[0mcanonical\u001b[0m\u001b[0;34m]\u001b[0m\u001b[0;34m\u001b[0m\u001b[0;34m\u001b[0m\u001b[0m\n\u001b[0m\u001b[1;32m    733\u001b[0m         \u001b[0;32mexcept\u001b[0m \u001b[0mKeyError\u001b[0m\u001b[0;34m:\u001b[0m \u001b[0;31m# Never seen this canonical formula before:\u001b[0m\u001b[0;34m\u001b[0m\u001b[0;34m\u001b[0m\u001b[0m\n",
      "\u001b[0;31mKeyError\u001b[0m: 'c1+(c2+(c3+c4*log(c3+m_d))*(I*pi*c5+exp(d**(c4*c6/c3))))**3'",
      "\nDuring handling of the above exception, another exception occurred:\n",
      "\u001b[0;31mTypeError\u001b[0m                                 Traceback (most recent call last)",
      "\u001b[0;31mTypeError\u001b[0m: Cannot cast array data from dtype('complex128') to dtype('float64') according to the rule 'safe'"
     ]
    },
    {
     "ename": "TypeError",
     "evalue": "Cannot cast array data from dtype('complex128') to dtype('float64') according to the rule 'safe'",
     "output_type": "error",
     "traceback": [
      "\u001b[0;31m---------------------------------------------------------------------------\u001b[0m",
      "\u001b[0;31mKeyError\u001b[0m                                  Traceback (most recent call last)",
      "\u001b[0;32m/export/home/shared/Projects/City_flows/Symbolic_mobility_BMS/rguimera-machine-scientist/mcmc.py\u001b[0m in \u001b[0;36mupdate_representative\u001b[0;34m(self, verbose)\u001b[0m\n\u001b[1;32m    731\u001b[0m         \u001b[0;32mtry\u001b[0m\u001b[0;34m:\u001b[0m             \u001b[0;31m# We've seen this canonical before!\u001b[0m\u001b[0;34m\u001b[0m\u001b[0;34m\u001b[0m\u001b[0m\n\u001b[0;32m--> 732\u001b[0;31m             \u001b[0mrep\u001b[0m\u001b[0;34m,\u001b[0m \u001b[0mrep_energy\u001b[0m\u001b[0;34m,\u001b[0m \u001b[0mrep_par_values\u001b[0m \u001b[0;34m=\u001b[0m \u001b[0mself\u001b[0m\u001b[0;34m.\u001b[0m\u001b[0mrepresentative\u001b[0m\u001b[0;34m[\u001b[0m\u001b[0mcanonical\u001b[0m\u001b[0;34m]\u001b[0m\u001b[0;34m\u001b[0m\u001b[0;34m\u001b[0m\u001b[0m\n\u001b[0m\u001b[1;32m    733\u001b[0m         \u001b[0;32mexcept\u001b[0m \u001b[0mKeyError\u001b[0m\u001b[0;34m:\u001b[0m \u001b[0;31m# Never seen this canonical formula before:\u001b[0m\u001b[0;34m\u001b[0m\u001b[0;34m\u001b[0m\u001b[0m\n",
      "\u001b[0;31mKeyError\u001b[0m: 'c1+(c2+(c3+c4*log(c3+m_d))*(I*pi*c5+exp(d**(c4*c6/c3))))**3'",
      "\nDuring handling of the above exception, another exception occurred:\n",
      "\u001b[0;31mTypeError\u001b[0m                                 Traceback (most recent call last)",
      "\u001b[0;31mTypeError\u001b[0m: Cannot cast array data from dtype('complex128') to dtype('float64') according to the rule 'safe'"
     ]
    },
    {
     "ename": "TypeError",
     "evalue": "Cannot cast array data from dtype('complex128') to dtype('float64') according to the rule 'safe'",
     "output_type": "error",
     "traceback": [
      "\u001b[0;31m---------------------------------------------------------------------------\u001b[0m",
      "\u001b[0;31mKeyError\u001b[0m                                  Traceback (most recent call last)",
      "\u001b[0;32m/export/home/shared/Projects/City_flows/Symbolic_mobility_BMS/rguimera-machine-scientist/mcmc.py\u001b[0m in \u001b[0;36mupdate_representative\u001b[0;34m(self, verbose)\u001b[0m\n\u001b[1;32m    731\u001b[0m         \u001b[0;32mtry\u001b[0m\u001b[0;34m:\u001b[0m             \u001b[0;31m# We've seen this canonical before!\u001b[0m\u001b[0;34m\u001b[0m\u001b[0;34m\u001b[0m\u001b[0m\n\u001b[0;32m--> 732\u001b[0;31m             \u001b[0mrep\u001b[0m\u001b[0;34m,\u001b[0m \u001b[0mrep_energy\u001b[0m\u001b[0;34m,\u001b[0m \u001b[0mrep_par_values\u001b[0m \u001b[0;34m=\u001b[0m \u001b[0mself\u001b[0m\u001b[0;34m.\u001b[0m\u001b[0mrepresentative\u001b[0m\u001b[0;34m[\u001b[0m\u001b[0mcanonical\u001b[0m\u001b[0;34m]\u001b[0m\u001b[0;34m\u001b[0m\u001b[0;34m\u001b[0m\u001b[0m\n\u001b[0m\u001b[1;32m    733\u001b[0m         \u001b[0;32mexcept\u001b[0m \u001b[0mKeyError\u001b[0m\u001b[0;34m:\u001b[0m \u001b[0;31m# Never seen this canonical formula before:\u001b[0m\u001b[0;34m\u001b[0m\u001b[0;34m\u001b[0m\u001b[0m\n",
      "\u001b[0;31mKeyError\u001b[0m: 'c1+(c2+(c3+c4*log(c3+m_d))*(I*pi*c5+exp(d**(c4*c6/c3))))**3'",
      "\nDuring handling of the above exception, another exception occurred:\n",
      "\u001b[0;31mTypeError\u001b[0m                                 Traceback (most recent call last)",
      "\u001b[0;31mTypeError\u001b[0m: Cannot cast array data from dtype('complex128') to dtype('float64') according to the rule 'safe'"
     ]
    },
    {
     "ename": "TypeError",
     "evalue": "Cannot cast array data from dtype('complex128') to dtype('float64') according to the rule 'safe'",
     "output_type": "error",
     "traceback": [
      "\u001b[0;31m---------------------------------------------------------------------------\u001b[0m",
      "\u001b[0;31mKeyError\u001b[0m                                  Traceback (most recent call last)",
      "\u001b[0;32m/export/home/shared/Projects/City_flows/Symbolic_mobility_BMS/rguimera-machine-scientist/mcmc.py\u001b[0m in \u001b[0;36mupdate_representative\u001b[0;34m(self, verbose)\u001b[0m\n\u001b[1;32m    731\u001b[0m         \u001b[0;32mtry\u001b[0m\u001b[0;34m:\u001b[0m             \u001b[0;31m# We've seen this canonical before!\u001b[0m\u001b[0;34m\u001b[0m\u001b[0;34m\u001b[0m\u001b[0m\n\u001b[0;32m--> 732\u001b[0;31m             \u001b[0mrep\u001b[0m\u001b[0;34m,\u001b[0m \u001b[0mrep_energy\u001b[0m\u001b[0;34m,\u001b[0m \u001b[0mrep_par_values\u001b[0m \u001b[0;34m=\u001b[0m \u001b[0mself\u001b[0m\u001b[0;34m.\u001b[0m\u001b[0mrepresentative\u001b[0m\u001b[0;34m[\u001b[0m\u001b[0mcanonical\u001b[0m\u001b[0;34m]\u001b[0m\u001b[0;34m\u001b[0m\u001b[0;34m\u001b[0m\u001b[0m\n\u001b[0m\u001b[1;32m    733\u001b[0m         \u001b[0;32mexcept\u001b[0m \u001b[0mKeyError\u001b[0m\u001b[0;34m:\u001b[0m \u001b[0;31m# Never seen this canonical formula before:\u001b[0m\u001b[0;34m\u001b[0m\u001b[0;34m\u001b[0m\u001b[0m\n",
      "\u001b[0;31mKeyError\u001b[0m: 'c1+(c2+(c3+c4*log(c3+m_d))*(I*pi*c5+exp(d**(c4*c6/c3))))**3'",
      "\nDuring handling of the above exception, another exception occurred:\n",
      "\u001b[0;31mTypeError\u001b[0m                                 Traceback (most recent call last)",
      "\u001b[0;31mTypeError\u001b[0m: Cannot cast array data from dtype('complex128') to dtype('float64') according to the rule 'safe'"
     ]
    },
    {
     "ename": "TypeError",
     "evalue": "Cannot cast array data from dtype('complex128') to dtype('float64') according to the rule 'safe'",
     "output_type": "error",
     "traceback": [
      "\u001b[0;31m---------------------------------------------------------------------------\u001b[0m",
      "\u001b[0;31mKeyError\u001b[0m                                  Traceback (most recent call last)",
      "\u001b[0;32m/export/home/shared/Projects/City_flows/Symbolic_mobility_BMS/rguimera-machine-scientist/mcmc.py\u001b[0m in \u001b[0;36mupdate_representative\u001b[0;34m(self, verbose)\u001b[0m\n\u001b[1;32m    731\u001b[0m         \u001b[0;32mtry\u001b[0m\u001b[0;34m:\u001b[0m             \u001b[0;31m# We've seen this canonical before!\u001b[0m\u001b[0;34m\u001b[0m\u001b[0;34m\u001b[0m\u001b[0m\n\u001b[0;32m--> 732\u001b[0;31m             \u001b[0mrep\u001b[0m\u001b[0;34m,\u001b[0m \u001b[0mrep_energy\u001b[0m\u001b[0;34m,\u001b[0m \u001b[0mrep_par_values\u001b[0m \u001b[0;34m=\u001b[0m \u001b[0mself\u001b[0m\u001b[0;34m.\u001b[0m\u001b[0mrepresentative\u001b[0m\u001b[0;34m[\u001b[0m\u001b[0mcanonical\u001b[0m\u001b[0;34m]\u001b[0m\u001b[0;34m\u001b[0m\u001b[0;34m\u001b[0m\u001b[0m\n\u001b[0m\u001b[1;32m    733\u001b[0m         \u001b[0;32mexcept\u001b[0m \u001b[0mKeyError\u001b[0m\u001b[0;34m:\u001b[0m \u001b[0;31m# Never seen this canonical formula before:\u001b[0m\u001b[0;34m\u001b[0m\u001b[0;34m\u001b[0m\u001b[0m\n",
      "\u001b[0;31mKeyError\u001b[0m: 'c1+(c2+(c3+c4*log(c3+m_d))*(I*pi*c5+exp(d**(c4*c6/c3))))**3'",
      "\nDuring handling of the above exception, another exception occurred:\n",
      "\u001b[0;31mTypeError\u001b[0m                                 Traceback (most recent call last)",
      "\u001b[0;31mTypeError\u001b[0m: Cannot cast array data from dtype('complex128') to dtype('float64') according to the rule 'safe'"
     ]
    },
    {
     "name": "stdout",
     "output_type": "stream",
     "text": [
      "Progress: 100%  | 0.2 MCs/s | Time left: 0.0min.                    \n",
      "Run 1\n",
      "Mdl for training data: 8192.76439428722\n",
      "Model\n"
     ]
    },
    {
     "data": {
      "image/png": "[encoded data removed]",
      "text/plain": [
       "<Figure size 432x288 with 1 Axes>"
      ]
     },
     "metadata": {},
     "output_type": "display_data"
    },
    {
     "name": "stdout",
     "output_type": "stream",
     "text": [
      "MCMC evolution\n"
     ]
    },
    {
     "data": {
      "image/png": "[encoded data removed]",
      "text/plain": [
       "<Figure size 1080x360 with 1 Axes>"
      ]
     },
     "metadata": {
      "needs_background": "light"
     },
     "output_type": "display_data"
    },
    {
     "name": "stdout",
     "output_type": "stream",
     "text": [
      "########################################\n",
      "Lowest mdl for training data: 8192.76439428722\n",
      "Model: log((((((((_a2_ * _a5_) + ((_a2_ + m_o) * m_d)) ** _a0_) / d) + _a5_) ** _a1_) * _a4_))\n",
      "../Plots/data_dl_talk_NetSciX.pkl\n",
      "CPU times: user 3h 35min 57s, sys: 2.73 s, total: 3h 36min\n",
      "Wall time: 3h 36min\n"
     ]
    },
    {
     "data": {
      "image/png": "[encoded data removed]",
      "text/plain": [
       "<Figure size 1080x360 with 2 Axes>"
      ]
     },
     "metadata": {
      "needs_background": "light"
     },
     "output_type": "display_data"
    }
   ],
   "source": [
    "%%time\n",
    "res={}\n",
    "\n",
    "\n",
    "\n",
    "best_model, state_ensemble, dl_fig,data_talk = ms.machinescientist(x=train_list_sample,\n",
    "                                               y={key:i['total_pop_flow'] for key,i in train_list_sample.items()},\n",
    "                                               XLABS=XLABS,n_params=params,\n",
    "                                               resets=mcmc_resets,\n",
    "                                               steps_prod=mcmc_steps,\n",
    "                                               log_scale_prediction=log_scale,\n",
    "                                                ensemble_avg=mcmc_ens_avg\n",
    "                                              )\n",
    "\n",
    "\"\"\"\n",
    "name=f'./City2City_DataFrames/{fold}_state_model_C_{datetime.now().strftime(\"%Y_%m_%d-%I_%M_%S\")}.pkl'\n",
    "with open(name, 'wb') as handle:\n",
    "    pickle.dump(best_model, handle, protocol=pickle.HIGHEST_PROTOCOL)\n",
    "print(name)\n",
    "name=f'./City2City_DataFrames/{fold}_ensemble_model_C_{datetime.now().strftime(\"%Y_%m_%d-%I_%M_%S\")}.pkl'\n",
    "with open(name, 'wb') as handle:\n",
    "    pickle.dump(state_ensemble, handle, protocol=pickle.HIGHEST_PROTOCOL)\n",
    "print(name)\n",
    "\"\"\"\n",
    "dl_fig.show()"
   ]
  }
 ],
 "metadata": {
  "kernelspec": {
   "display_name": "machinescientist",
   "language": "python",
   "name": "machinescientist"
  },
  "language_info": {
   "codemirror_mode": {
    "name": "ipython",
    "version": 3
   },
   "file_extension": ".py",
   "mimetype": "text/x-python",
   "name": "python",
   "nbconvert_exporter": "python",
   "pygments_lexer": "ipython3",
   "version": "3.8.10"
  }
 },
 "nbformat": 4,
 "nbformat_minor": 5
}
