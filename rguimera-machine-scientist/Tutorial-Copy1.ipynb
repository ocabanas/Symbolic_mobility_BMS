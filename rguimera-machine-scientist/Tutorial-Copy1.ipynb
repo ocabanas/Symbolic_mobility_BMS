{
 "cells": [
  {
   "cell_type": "markdown",
   "metadata": {},
   "source": [
    "# Tutorial for the Bayesian machine scientist "
   ]
  },
  {
   "cell_type": "markdown",
   "metadata": {},
   "source": [
    "This tutorial illustrates how to program a Bayesian machine scientist, using the code provided here. The tutorial assumes general knowledge of Python programming. We start by importing all necessary Python modules:"
   ]
  },
  {
   "cell_type": "code",
   "execution_count": 1,
   "metadata": {},
   "outputs": [],
   "source": [
    "import sys\n",
    "import numpy as np \n",
    "import pandas as pd\n",
    "import warnings\n",
    "warnings.filterwarnings('ignore')\n",
    "\n",
    "import matplotlib.pyplot as plt\n",
    "from copy import deepcopy\n",
    "from ipywidgets import IntProgress\n",
    "from IPython.display import display,display_latex\n",
    "\n",
    "sys.path.append('./')\n",
    "sys.path.append('./Prior/')\n",
    "from mcmc import *\n",
    "from parallel import *\n",
    "from fit_prior import read_prior_par"
   ]
  },
  {
   "cell_type": "markdown",
   "metadata": {},
   "source": [
    "## Loading and preparing the data "
   ]
  },
  {
   "cell_type": "markdown",
   "metadata": {},
   "source": [
    "We then load the data. In this particular case, we load the salmon stocks data. The features (independent variables) are loaded into a Pandas `DataFrame` named `x`, whereas the target (dependent) variable is loaded into a Pandas `Series` named `y`. Data should **always** be loaded in these formats to avoid problems. "
   ]
  },
  {
   "cell_type": "code",
   "execution_count": 2,
   "metadata": {},
   "outputs": [
    {
     "data": {
      "text/plain": [
       "(     x1   x2\n",
       " 0  -2.5 -2.5\n",
       " 1  -2.5 -2.0\n",
       " 2  -2.5 -1.5\n",
       " 3  -2.5 -1.0\n",
       " 4  -2.5 -0.5\n",
       " ..  ...  ...\n",
       " 95  2.0  0.0\n",
       " 96  2.0  0.5\n",
       " 97  2.0  1.0\n",
       " 98  2.0  1.5\n",
       " 99  2.0  2.0\n",
       " \n",
       " [100 rows x 2 columns],\n",
       " 0    -3.004289\n",
       " 1    -1.040367\n",
       " 2     0.088422\n",
       " 3    -0.000000\n",
       " 4    -1.096978\n",
       "         ...   \n",
       " 95    2.000000\n",
       " 96    2.632748\n",
       " 97    2.161209\n",
       " 98    0.353686\n",
       " 99   -2.496881\n",
       " Length: 100, dtype: float64)"
      ]
     },
     "execution_count": 2,
     "metadata": {},
     "output_type": "execute_result"
    }
   ],
   "source": [
    "XLABS = [\n",
    "    'x1',\n",
    "    'x2'\n",
    "]\n",
    "def f1(x):\n",
    "    return 2.5+x+np.sin(x)\n",
    "def f2(x1,x2):\n",
    "    return x1*(1+x2)*np.cos(x2)\n",
    "x1=np.arange(-2.5,2.5,0.5)\n",
    "x2=np.arange(-2.5,2.5,0.5)\n",
    "x=pd.DataFrame(columns={'x1','x2'})\n",
    "for a in x1:\n",
    "    for b in x2:\n",
    "        x=x.append({'x1':a,'x2':b},ignore_index=True)\n",
    "\n",
    "y = pd.Series(f2(x['x1'],x['x2']))#+np.random.normal(0,0.1,size=len(x.x1)))\n",
    "x,y"
   ]
  },
  {
   "cell_type": "markdown",
   "metadata": {},
   "source": [
    "## Initializing the Bayesian machine scienstist "
   ]
  },
  {
   "cell_type": "markdown",
   "metadata": {},
   "source": [
    "We start by initializing the machine scientist. This involves three steps:\n",
    "- **Reading the prior hyperparameters.** The values of the hyperparameters depend on the number of variables `nv` and parameters `np`considered during the search. Many combinations of `nv` and `np` have hyperparameters calculated in the `Prior` directory. Otherwise, the hyperparameters should be fit. \n",
    "- **Setting the \"temperatures\" for the parallel tempering.** If you don't know what parallel tempering is, you can read it in the Methods section of the paper, or just leave it as is in the code. In general, more temperatures (here 20) lead to better sampling of the expression space (we use a maximum of 100 different temperatures)\n",
    "- **Initializing the (parallel) scientist.**"
   ]
  },
  {
   "cell_type": "code",
   "execution_count": 3,
   "metadata": {},
   "outputs": [],
   "source": [
    "# Read the hyperparameters for the prior\n",
    "prior_par = read_prior_par('./Prior/final_prior_param_sq.named_equations.nv2.np2.2016-09-09 18:49:43.038278.dat')\n",
    "\n",
    "# Set the temperatures for the parallel tempering\n",
    "Ts = [1] + [1.04**k for k in range(1, 20)]\n",
    "\n",
    "# Initialize the parallel machine scientist\n",
    "pms = Parallel(\n",
    "    Ts,\n",
    "    variables=XLABS,\n",
    "    parameters=['a%d' % i for i in range(2)],\n",
    "    x=x, y=y,\n",
    "    prior_par=prior_par,\n",
    ")"
   ]
  },
  {
   "cell_type": "markdown",
   "metadata": {},
   "source": [
    "## Sampling expressions with the Bayesian machine scientist "
   ]
  },
  {
   "cell_type": "markdown",
   "metadata": {},
   "source": [
    "We are now ready to start sampling expressions with the Bayesian machine scientist, using MCMC. In its simplest form, one just needs to run the `mcmc_step()` and the `tree_swap()` methods as many times as necessary. `mcmc_step()` performs an MCMC update at each of the temperatures of the parallel tempering, whereas `tree_swap()` attempts to swap the expressions at two consecutive temperatures."
   ]
  },
  {
   "cell_type": "code",
   "execution_count": 4,
   "metadata": {
    "scrolled": false
   },
   "outputs": [
    {
     "name": "stdout",
     "output_type": "stream",
     "text": [
      "Run 1\n",
      "-9461.58351976943 (((x1 * cos(abs(x2))) * (abs(_a1_) + ((sqrt(x2) ** 2) * _a1_))) + (_a0_ ** 3))\n"
     ]
    },
    {
     "ename": "TypeError",
     "evalue": "Cannot cast array data from dtype('complex128') to dtype('float64') according to the rule 'safe'",
     "output_type": "error",
     "traceback": [
      "\u001b[0;31m---------------------------------------------------------------------------\u001b[0m",
      "\u001b[0;31mKeyError\u001b[0m                                  Traceback (most recent call last)",
      "\u001b[0;32m~/Documents/rguimera-machine-scientist/mcmc.py\u001b[0m in \u001b[0;36mupdate_representative\u001b[0;34m(self, verbose)\u001b[0m\n\u001b[1;32m    731\u001b[0m         \u001b[0;32mtry\u001b[0m\u001b[0;34m:\u001b[0m             \u001b[0;31m# We've seen this canonical before!\u001b[0m\u001b[0;34m\u001b[0m\u001b[0;34m\u001b[0m\u001b[0m\n\u001b[0;32m--> 732\u001b[0;31m             \u001b[0mrep\u001b[0m\u001b[0;34m,\u001b[0m \u001b[0mrep_energy\u001b[0m\u001b[0;34m,\u001b[0m \u001b[0mrep_par_values\u001b[0m \u001b[0;34m=\u001b[0m \u001b[0mself\u001b[0m\u001b[0;34m.\u001b[0m\u001b[0mrepresentative\u001b[0m\u001b[0;34m[\u001b[0m\u001b[0mcanonical\u001b[0m\u001b[0;34m]\u001b[0m\u001b[0;34m\u001b[0m\u001b[0;34m\u001b[0m\u001b[0m\n\u001b[0m\u001b[1;32m    733\u001b[0m         \u001b[0;32mexcept\u001b[0m \u001b[0mKeyError\u001b[0m\u001b[0;34m:\u001b[0m \u001b[0;31m# Never seen this canonical formula before:\u001b[0m\u001b[0;34m\u001b[0m\u001b[0;34m\u001b[0m\u001b[0m\n",
      "\u001b[0;31mKeyError\u001b[0m: 'x1*sin(I*x2+exp(abs(x2*exp(c1))))'",
      "\nDuring handling of the above exception, another exception occurred:\n",
      "\u001b[0;31mTypeError\u001b[0m                                 Traceback (most recent call last)",
      "\u001b[0;31mTypeError\u001b[0m: Cannot cast array data from dtype('complex128') to dtype('float64') according to the rule 'safe'"
     ]
    },
    {
     "name": "stdout",
     "output_type": "stream",
     "text": [
      "Run 2\n",
      "-37230.6769631012 (((x1 * ((((_a1_ ** _a1_) + x2) + _a1_) + _a1_)) * cos(x2)) + ((_a1_ + (_a1_ * (x2 * ((_a1_ ** x1) * exp((_a0_ / x1)))))) * _a0_))\n",
      "Run 3\n",
      "-3546.52516291065 (cos(-((x2 * (_a1_ + _a1_)))) * (((abs(_a0_) * x1) / _a0_) * ((_a0_ ** _a1_) + x2)))\n"
     ]
    },
    {
     "ename": "TypeError",
     "evalue": "Cannot cast array data from dtype('complex128') to dtype('float64') according to the rule 'safe'",
     "output_type": "error",
     "traceback": [
      "\u001b[0;31m---------------------------------------------------------------------------\u001b[0m",
      "\u001b[0;31mKeyError\u001b[0m                                  Traceback (most recent call last)",
      "\u001b[0;32m~/Documents/rguimera-machine-scientist/mcmc.py\u001b[0m in \u001b[0;36mupdate_representative\u001b[0;34m(self, verbose)\u001b[0m\n\u001b[1;32m    731\u001b[0m         \u001b[0;32mtry\u001b[0m\u001b[0;34m:\u001b[0m             \u001b[0;31m# We've seen this canonical before!\u001b[0m\u001b[0;34m\u001b[0m\u001b[0;34m\u001b[0m\u001b[0m\n\u001b[0;32m--> 732\u001b[0;31m             \u001b[0mrep\u001b[0m\u001b[0;34m,\u001b[0m \u001b[0mrep_energy\u001b[0m\u001b[0;34m,\u001b[0m \u001b[0mrep_par_values\u001b[0m \u001b[0;34m=\u001b[0m \u001b[0mself\u001b[0m\u001b[0;34m.\u001b[0m\u001b[0mrepresentative\u001b[0m\u001b[0;34m[\u001b[0m\u001b[0mcanonical\u001b[0m\u001b[0;34m]\u001b[0m\u001b[0;34m\u001b[0m\u001b[0;34m\u001b[0m\u001b[0m\n\u001b[0m\u001b[1;32m    733\u001b[0m         \u001b[0;32mexcept\u001b[0m \u001b[0mKeyError\u001b[0m\u001b[0;34m:\u001b[0m \u001b[0;31m# Never seen this canonical formula before:\u001b[0m\u001b[0;34m\u001b[0m\u001b[0;34m\u001b[0m\u001b[0m\n",
      "\u001b[0;31mKeyError\u001b[0m: '-c1*x1*(exp(exp(x2))+I*pi)'",
      "\nDuring handling of the above exception, another exception occurred:\n",
      "\u001b[0;31mTypeError\u001b[0m                                 Traceback (most recent call last)",
      "\u001b[0;31mTypeError\u001b[0m: Cannot cast array data from dtype('complex128') to dtype('float64') according to the rule 'safe'"
     ]
    },
    {
     "ename": "TypeError",
     "evalue": "Cannot cast array data from dtype('complex128') to dtype('float64') according to the rule 'safe'",
     "output_type": "error",
     "traceback": [
      "\u001b[0;31m---------------------------------------------------------------------------\u001b[0m",
      "\u001b[0;31mKeyError\u001b[0m                                  Traceback (most recent call last)",
      "\u001b[0;32m~/Documents/rguimera-machine-scientist/mcmc.py\u001b[0m in \u001b[0;36mupdate_representative\u001b[0;34m(self, verbose)\u001b[0m\n\u001b[1;32m    731\u001b[0m         \u001b[0;32mtry\u001b[0m\u001b[0;34m:\u001b[0m             \u001b[0;31m# We've seen this canonical before!\u001b[0m\u001b[0;34m\u001b[0m\u001b[0;34m\u001b[0m\u001b[0m\n\u001b[0;32m--> 732\u001b[0;31m             \u001b[0mrep\u001b[0m\u001b[0;34m,\u001b[0m \u001b[0mrep_energy\u001b[0m\u001b[0;34m,\u001b[0m \u001b[0mrep_par_values\u001b[0m \u001b[0;34m=\u001b[0m \u001b[0mself\u001b[0m\u001b[0;34m.\u001b[0m\u001b[0mrepresentative\u001b[0m\u001b[0;34m[\u001b[0m\u001b[0mcanonical\u001b[0m\u001b[0;34m]\u001b[0m\u001b[0;34m\u001b[0m\u001b[0;34m\u001b[0m\u001b[0m\n\u001b[0m\u001b[1;32m    733\u001b[0m         \u001b[0;32mexcept\u001b[0m \u001b[0mKeyError\u001b[0m\u001b[0;34m:\u001b[0m \u001b[0;31m# Never seen this canonical formula before:\u001b[0m\u001b[0;34m\u001b[0m\u001b[0;34m\u001b[0m\u001b[0m\n",
      "\u001b[0;31mKeyError\u001b[0m: 'c1*(c1+2*x1)*(exp(exp(x2))+I*pi)'",
      "\nDuring handling of the above exception, another exception occurred:\n",
      "\u001b[0;31mTypeError\u001b[0m                                 Traceback (most recent call last)",
      "\u001b[0;31mTypeError\u001b[0m: Cannot cast array data from dtype('complex128') to dtype('float64') according to the rule 'safe'"
     ]
    },
    {
     "ename": "TypeError",
     "evalue": "Cannot cast array data from dtype('complex128') to dtype('float64') according to the rule 'safe'",
     "output_type": "error",
     "traceback": [
      "\u001b[0;31m---------------------------------------------------------------------------\u001b[0m",
      "\u001b[0;31mKeyError\u001b[0m                                  Traceback (most recent call last)",
      "\u001b[0;32m~/Documents/rguimera-machine-scientist/mcmc.py\u001b[0m in \u001b[0;36mupdate_representative\u001b[0;34m(self, verbose)\u001b[0m\n\u001b[1;32m    731\u001b[0m         \u001b[0;32mtry\u001b[0m\u001b[0;34m:\u001b[0m             \u001b[0;31m# We've seen this canonical before!\u001b[0m\u001b[0;34m\u001b[0m\u001b[0;34m\u001b[0m\u001b[0m\n\u001b[0;32m--> 732\u001b[0;31m             \u001b[0mrep\u001b[0m\u001b[0;34m,\u001b[0m \u001b[0mrep_energy\u001b[0m\u001b[0;34m,\u001b[0m \u001b[0mrep_par_values\u001b[0m \u001b[0;34m=\u001b[0m \u001b[0mself\u001b[0m\u001b[0;34m.\u001b[0m\u001b[0mrepresentative\u001b[0m\u001b[0;34m[\u001b[0m\u001b[0mcanonical\u001b[0m\u001b[0;34m]\u001b[0m\u001b[0;34m\u001b[0m\u001b[0;34m\u001b[0m\u001b[0m\n\u001b[0m\u001b[1;32m    733\u001b[0m         \u001b[0;32mexcept\u001b[0m \u001b[0mKeyError\u001b[0m\u001b[0;34m:\u001b[0m \u001b[0;31m# Never seen this canonical formula before:\u001b[0m\u001b[0;34m\u001b[0m\u001b[0;34m\u001b[0m\u001b[0m\n",
      "\u001b[0;31mKeyError\u001b[0m: 'c1*x1*(exp(exp(x2))+I*pi)'",
      "\nDuring handling of the above exception, another exception occurred:\n",
      "\u001b[0;31mTypeError\u001b[0m                                 Traceback (most recent call last)",
      "\u001b[0;31mTypeError\u001b[0m: Cannot cast array data from dtype('complex128') to dtype('float64') according to the rule 'safe'"
     ]
    },
    {
     "name": "stdout",
     "output_type": "stream",
     "text": [
      "Run 4\n",
      "-3790.53701739186 ((((_a0_ * x1) * (x2 + _a1_)) * log(_a0_)) * (_a1_ * cos(x2)))\n"
     ]
    },
    {
     "ename": "TypeError",
     "evalue": "Cannot cast array data from dtype('complex128') to dtype('float64') according to the rule 'safe'",
     "output_type": "error",
     "traceback": [
      "\u001b[0;31m---------------------------------------------------------------------------\u001b[0m",
      "\u001b[0;31mKeyError\u001b[0m                                  Traceback (most recent call last)",
      "\u001b[0;32m~/Documents/rguimera-machine-scientist/mcmc.py\u001b[0m in \u001b[0;36mupdate_representative\u001b[0;34m(self, verbose)\u001b[0m\n\u001b[1;32m    731\u001b[0m         \u001b[0;32mtry\u001b[0m\u001b[0;34m:\u001b[0m             \u001b[0;31m# We've seen this canonical before!\u001b[0m\u001b[0;34m\u001b[0m\u001b[0;34m\u001b[0m\u001b[0m\n\u001b[0;32m--> 732\u001b[0;31m             \u001b[0mrep\u001b[0m\u001b[0;34m,\u001b[0m \u001b[0mrep_energy\u001b[0m\u001b[0;34m,\u001b[0m \u001b[0mrep_par_values\u001b[0m \u001b[0;34m=\u001b[0m \u001b[0mself\u001b[0m\u001b[0;34m.\u001b[0m\u001b[0mrepresentative\u001b[0m\u001b[0;34m[\u001b[0m\u001b[0mcanonical\u001b[0m\u001b[0;34m]\u001b[0m\u001b[0;34m\u001b[0m\u001b[0;34m\u001b[0m\u001b[0m\n\u001b[0m\u001b[1;32m    733\u001b[0m         \u001b[0;32mexcept\u001b[0m \u001b[0mKeyError\u001b[0m\u001b[0;34m:\u001b[0m \u001b[0;31m# Never seen this canonical formula before:\u001b[0m\u001b[0;34m\u001b[0m\u001b[0;34m\u001b[0m\u001b[0m\n",
      "\u001b[0;31mKeyError\u001b[0m: 'c1*cos(c1+c2+x2)+c1+c2+x1*(x2+I)*cos(-c1+2*c2+x2)'",
      "\nDuring handling of the above exception, another exception occurred:\n",
      "\u001b[0;31mTypeError\u001b[0m                                 Traceback (most recent call last)",
      "\u001b[0;31mTypeError\u001b[0m: Cannot cast array data from dtype('complex128') to dtype('float64') according to the rule 'safe'"
     ]
    },
    {
     "ename": "TypeError",
     "evalue": "Cannot cast array data from dtype('complex128') to dtype('float64') according to the rule 'safe'",
     "output_type": "error",
     "traceback": [
      "\u001b[0;31m---------------------------------------------------------------------------\u001b[0m",
      "\u001b[0;31mKeyError\u001b[0m                                  Traceback (most recent call last)",
      "\u001b[0;32m~/Documents/rguimera-machine-scientist/mcmc.py\u001b[0m in \u001b[0;36mupdate_representative\u001b[0;34m(self, verbose)\u001b[0m\n\u001b[1;32m    731\u001b[0m         \u001b[0;32mtry\u001b[0m\u001b[0;34m:\u001b[0m             \u001b[0;31m# We've seen this canonical before!\u001b[0m\u001b[0;34m\u001b[0m\u001b[0;34m\u001b[0m\u001b[0m\n\u001b[0;32m--> 732\u001b[0;31m             \u001b[0mrep\u001b[0m\u001b[0;34m,\u001b[0m \u001b[0mrep_energy\u001b[0m\u001b[0;34m,\u001b[0m \u001b[0mrep_par_values\u001b[0m \u001b[0;34m=\u001b[0m \u001b[0mself\u001b[0m\u001b[0;34m.\u001b[0m\u001b[0mrepresentative\u001b[0m\u001b[0;34m[\u001b[0m\u001b[0mcanonical\u001b[0m\u001b[0;34m]\u001b[0m\u001b[0;34m\u001b[0m\u001b[0;34m\u001b[0m\u001b[0m\n\u001b[0m\u001b[1;32m    733\u001b[0m         \u001b[0;32mexcept\u001b[0m \u001b[0mKeyError\u001b[0m\u001b[0;34m:\u001b[0m \u001b[0;31m# Never seen this canonical formula before:\u001b[0m\u001b[0;34m\u001b[0m\u001b[0;34m\u001b[0m\u001b[0m\n",
      "\u001b[0;31mKeyError\u001b[0m: 'c1*cos(x2)+c1+c2+x1*(x2+I)*cos(c1*x1+2*c2+x2)'",
      "\nDuring handling of the above exception, another exception occurred:\n",
      "\u001b[0;31mTypeError\u001b[0m                                 Traceback (most recent call last)",
      "\u001b[0;31mTypeError\u001b[0m: Cannot cast array data from dtype('complex128') to dtype('float64') according to the rule 'safe'"
     ]
    },
    {
     "ename": "TypeError",
     "evalue": "Cannot cast array data from dtype('complex128') to dtype('float64') according to the rule 'safe'",
     "output_type": "error",
     "traceback": [
      "\u001b[0;31m---------------------------------------------------------------------------\u001b[0m",
      "\u001b[0;31mKeyError\u001b[0m                                  Traceback (most recent call last)",
      "\u001b[0;32m~/Documents/rguimera-machine-scientist/mcmc.py\u001b[0m in \u001b[0;36mupdate_representative\u001b[0;34m(self, verbose)\u001b[0m\n\u001b[1;32m    731\u001b[0m         \u001b[0;32mtry\u001b[0m\u001b[0;34m:\u001b[0m             \u001b[0;31m# We've seen this canonical before!\u001b[0m\u001b[0;34m\u001b[0m\u001b[0;34m\u001b[0m\u001b[0m\n\u001b[0;32m--> 732\u001b[0;31m             \u001b[0mrep\u001b[0m\u001b[0;34m,\u001b[0m \u001b[0mrep_energy\u001b[0m\u001b[0;34m,\u001b[0m \u001b[0mrep_par_values\u001b[0m \u001b[0;34m=\u001b[0m \u001b[0mself\u001b[0m\u001b[0;34m.\u001b[0m\u001b[0mrepresentative\u001b[0m\u001b[0;34m[\u001b[0m\u001b[0mcanonical\u001b[0m\u001b[0;34m]\u001b[0m\u001b[0;34m\u001b[0m\u001b[0;34m\u001b[0m\u001b[0m\n\u001b[0m\u001b[1;32m    733\u001b[0m         \u001b[0;32mexcept\u001b[0m \u001b[0mKeyError\u001b[0m\u001b[0;34m:\u001b[0m \u001b[0;31m# Never seen this canonical formula before:\u001b[0m\u001b[0;34m\u001b[0m\u001b[0;34m\u001b[0m\u001b[0m\n",
      "\u001b[0;31mKeyError\u001b[0m: 'c1*cos(x2)+c1+c2+x1*(x2+I)*cos(c2*x2+c2+x2)'",
      "\nDuring handling of the above exception, another exception occurred:\n",
      "\u001b[0;31mTypeError\u001b[0m                                 Traceback (most recent call last)",
      "\u001b[0;31mTypeError\u001b[0m: Cannot cast array data from dtype('complex128') to dtype('float64') according to the rule 'safe'"
     ]
    },
    {
     "ename": "TypeError",
     "evalue": "Cannot cast array data from dtype('complex128') to dtype('float64') according to the rule 'safe'",
     "output_type": "error",
     "traceback": [
      "\u001b[0;31m---------------------------------------------------------------------------\u001b[0m",
      "\u001b[0;31mKeyError\u001b[0m                                  Traceback (most recent call last)",
      "\u001b[0;32m~/Documents/rguimera-machine-scientist/mcmc.py\u001b[0m in \u001b[0;36mupdate_representative\u001b[0;34m(self, verbose)\u001b[0m\n\u001b[1;32m    731\u001b[0m         \u001b[0;32mtry\u001b[0m\u001b[0;34m:\u001b[0m             \u001b[0;31m# We've seen this canonical before!\u001b[0m\u001b[0;34m\u001b[0m\u001b[0;34m\u001b[0m\u001b[0m\n\u001b[0;32m--> 732\u001b[0;31m             \u001b[0mrep\u001b[0m\u001b[0;34m,\u001b[0m \u001b[0mrep_energy\u001b[0m\u001b[0;34m,\u001b[0m \u001b[0mrep_par_values\u001b[0m \u001b[0;34m=\u001b[0m \u001b[0mself\u001b[0m\u001b[0;34m.\u001b[0m\u001b[0mrepresentative\u001b[0m\u001b[0;34m[\u001b[0m\u001b[0mcanonical\u001b[0m\u001b[0;34m]\u001b[0m\u001b[0;34m\u001b[0m\u001b[0;34m\u001b[0m\u001b[0m\n\u001b[0m\u001b[1;32m    733\u001b[0m         \u001b[0;32mexcept\u001b[0m \u001b[0mKeyError\u001b[0m\u001b[0;34m:\u001b[0m \u001b[0;31m# Never seen this canonical formula before:\u001b[0m\u001b[0;34m\u001b[0m\u001b[0;34m\u001b[0m\u001b[0m\n",
      "\u001b[0;31mKeyError\u001b[0m: 'c1*cos(x2)+c1+c2+x1*(x2+I)*cos(x2)'",
      "\nDuring handling of the above exception, another exception occurred:\n",
      "\u001b[0;31mTypeError\u001b[0m                                 Traceback (most recent call last)",
      "\u001b[0;31mTypeError\u001b[0m: Cannot cast array data from dtype('complex128') to dtype('float64') according to the rule 'safe'"
     ]
    },
    {
     "ename": "TypeError",
     "evalue": "Cannot cast array data from dtype('complex128') to dtype('float64') according to the rule 'safe'",
     "output_type": "error",
     "traceback": [
      "\u001b[0;31m---------------------------------------------------------------------------\u001b[0m",
      "\u001b[0;31mKeyError\u001b[0m                                  Traceback (most recent call last)",
      "\u001b[0;32m~/Documents/rguimera-machine-scientist/mcmc.py\u001b[0m in \u001b[0;36mupdate_representative\u001b[0;34m(self, verbose)\u001b[0m\n\u001b[1;32m    731\u001b[0m         \u001b[0;32mtry\u001b[0m\u001b[0;34m:\u001b[0m             \u001b[0;31m# We've seen this canonical before!\u001b[0m\u001b[0;34m\u001b[0m\u001b[0;34m\u001b[0m\u001b[0m\n\u001b[0;32m--> 732\u001b[0;31m             \u001b[0mrep\u001b[0m\u001b[0;34m,\u001b[0m \u001b[0mrep_energy\u001b[0m\u001b[0;34m,\u001b[0m \u001b[0mrep_par_values\u001b[0m \u001b[0;34m=\u001b[0m \u001b[0mself\u001b[0m\u001b[0;34m.\u001b[0m\u001b[0mrepresentative\u001b[0m\u001b[0;34m[\u001b[0m\u001b[0mcanonical\u001b[0m\u001b[0;34m]\u001b[0m\u001b[0;34m\u001b[0m\u001b[0;34m\u001b[0m\u001b[0m\n\u001b[0m\u001b[1;32m    733\u001b[0m         \u001b[0;32mexcept\u001b[0m \u001b[0mKeyError\u001b[0m\u001b[0;34m:\u001b[0m \u001b[0;31m# Never seen this canonical formula before:\u001b[0m\u001b[0;34m\u001b[0m\u001b[0;34m\u001b[0m\u001b[0m\n",
      "\u001b[0;31mKeyError\u001b[0m: 'c1+c2*cos(x2)+c2+x1*(x2+I)*cos(x2)'",
      "\nDuring handling of the above exception, another exception occurred:\n",
      "\u001b[0;31mTypeError\u001b[0m                                 Traceback (most recent call last)",
      "\u001b[0;31mTypeError\u001b[0m: Cannot cast array data from dtype('complex128') to dtype('float64') according to the rule 'safe'"
     ]
    },
    {
     "ename": "TypeError",
     "evalue": "Cannot cast array data from dtype('complex128') to dtype('float64') according to the rule 'safe'",
     "output_type": "error",
     "traceback": [
      "\u001b[0;31m---------------------------------------------------------------------------\u001b[0m",
      "\u001b[0;31mKeyError\u001b[0m                                  Traceback (most recent call last)",
      "\u001b[0;32m~/Documents/rguimera-machine-scientist/mcmc.py\u001b[0m in \u001b[0;36mupdate_representative\u001b[0;34m(self, verbose)\u001b[0m\n\u001b[1;32m    731\u001b[0m         \u001b[0;32mtry\u001b[0m\u001b[0;34m:\u001b[0m             \u001b[0;31m# We've seen this canonical before!\u001b[0m\u001b[0;34m\u001b[0m\u001b[0;34m\u001b[0m\u001b[0m\n\u001b[0;32m--> 732\u001b[0;31m             \u001b[0mrep\u001b[0m\u001b[0;34m,\u001b[0m \u001b[0mrep_energy\u001b[0m\u001b[0;34m,\u001b[0m \u001b[0mrep_par_values\u001b[0m \u001b[0;34m=\u001b[0m \u001b[0mself\u001b[0m\u001b[0;34m.\u001b[0m\u001b[0mrepresentative\u001b[0m\u001b[0;34m[\u001b[0m\u001b[0mcanonical\u001b[0m\u001b[0;34m]\u001b[0m\u001b[0;34m\u001b[0m\u001b[0;34m\u001b[0m\u001b[0m\n\u001b[0m\u001b[1;32m    733\u001b[0m         \u001b[0;32mexcept\u001b[0m \u001b[0mKeyError\u001b[0m\u001b[0;34m:\u001b[0m \u001b[0;31m# Never seen this canonical formula before:\u001b[0m\u001b[0;34m\u001b[0m\u001b[0;34m\u001b[0m\u001b[0m\n",
      "\u001b[0;31mKeyError\u001b[0m: 'c1+c2*cos(x2)+c2+x1*(x2+sqrt(2)*I/2)*cos(x2)'",
      "\nDuring handling of the above exception, another exception occurred:\n",
      "\u001b[0;31mTypeError\u001b[0m                                 Traceback (most recent call last)",
      "\u001b[0;31mTypeError\u001b[0m: Cannot cast array data from dtype('complex128') to dtype('float64') according to the rule 'safe'"
     ]
    },
    {
     "ename": "TypeError",
     "evalue": "Cannot cast array data from dtype('complex128') to dtype('float64') according to the rule 'safe'",
     "output_type": "error",
     "traceback": [
      "\u001b[0;31m---------------------------------------------------------------------------\u001b[0m",
      "\u001b[0;31mKeyError\u001b[0m                                  Traceback (most recent call last)",
      "\u001b[0;32m~/Documents/rguimera-machine-scientist/mcmc.py\u001b[0m in \u001b[0;36mupdate_representative\u001b[0;34m(self, verbose)\u001b[0m\n\u001b[1;32m    731\u001b[0m         \u001b[0;32mtry\u001b[0m\u001b[0;34m:\u001b[0m             \u001b[0;31m# We've seen this canonical before!\u001b[0m\u001b[0;34m\u001b[0m\u001b[0;34m\u001b[0m\u001b[0m\n\u001b[0;32m--> 732\u001b[0;31m             \u001b[0mrep\u001b[0m\u001b[0;34m,\u001b[0m \u001b[0mrep_energy\u001b[0m\u001b[0;34m,\u001b[0m \u001b[0mrep_par_values\u001b[0m \u001b[0;34m=\u001b[0m \u001b[0mself\u001b[0m\u001b[0;34m.\u001b[0m\u001b[0mrepresentative\u001b[0m\u001b[0;34m[\u001b[0m\u001b[0mcanonical\u001b[0m\u001b[0;34m]\u001b[0m\u001b[0;34m\u001b[0m\u001b[0;34m\u001b[0m\u001b[0m\n\u001b[0m\u001b[1;32m    733\u001b[0m         \u001b[0;32mexcept\u001b[0m \u001b[0mKeyError\u001b[0m\u001b[0;34m:\u001b[0m \u001b[0;31m# Never seen this canonical formula before:\u001b[0m\u001b[0;34m\u001b[0m\u001b[0;34m\u001b[0m\u001b[0m\n",
      "\u001b[0;31mKeyError\u001b[0m: 'c1*cos(x2)+x1*(x2+I)*cos(x2)'",
      "\nDuring handling of the above exception, another exception occurred:\n",
      "\u001b[0;31mTypeError\u001b[0m                                 Traceback (most recent call last)",
      "\u001b[0;31mTypeError\u001b[0m: Cannot cast array data from dtype('complex128') to dtype('float64') according to the rule 'safe'"
     ]
    },
    {
     "ename": "TypeError",
     "evalue": "Cannot cast array data from dtype('complex128') to dtype('float64') according to the rule 'safe'",
     "output_type": "error",
     "traceback": [
      "\u001b[0;31m---------------------------------------------------------------------------\u001b[0m",
      "\u001b[0;31mKeyError\u001b[0m                                  Traceback (most recent call last)",
      "\u001b[0;32m~/Documents/rguimera-machine-scientist/mcmc.py\u001b[0m in \u001b[0;36mupdate_representative\u001b[0;34m(self, verbose)\u001b[0m\n\u001b[1;32m    731\u001b[0m         \u001b[0;32mtry\u001b[0m\u001b[0;34m:\u001b[0m             \u001b[0;31m# We've seen this canonical before!\u001b[0m\u001b[0;34m\u001b[0m\u001b[0;34m\u001b[0m\u001b[0m\n\u001b[0;32m--> 732\u001b[0;31m             \u001b[0mrep\u001b[0m\u001b[0;34m,\u001b[0m \u001b[0mrep_energy\u001b[0m\u001b[0;34m,\u001b[0m \u001b[0mrep_par_values\u001b[0m \u001b[0;34m=\u001b[0m \u001b[0mself\u001b[0m\u001b[0;34m.\u001b[0m\u001b[0mrepresentative\u001b[0m\u001b[0;34m[\u001b[0m\u001b[0mcanonical\u001b[0m\u001b[0;34m]\u001b[0m\u001b[0;34m\u001b[0m\u001b[0;34m\u001b[0m\u001b[0m\n\u001b[0m\u001b[1;32m    733\u001b[0m         \u001b[0;32mexcept\u001b[0m \u001b[0mKeyError\u001b[0m\u001b[0;34m:\u001b[0m \u001b[0;31m# Never seen this canonical formula before:\u001b[0m\u001b[0;34m\u001b[0m\u001b[0;34m\u001b[0m\u001b[0m\n",
      "\u001b[0;31mKeyError\u001b[0m: 'c1*cos(x2)+x1*(x2+I)*cos(c2+x2)'",
      "\nDuring handling of the above exception, another exception occurred:\n",
      "\u001b[0;31mTypeError\u001b[0m                                 Traceback (most recent call last)",
      "\u001b[0;31mTypeError\u001b[0m: Cannot cast array data from dtype('complex128') to dtype('float64') according to the rule 'safe'"
     ]
    },
    {
     "name": "stdout",
     "output_type": "stream",
     "text": [
      "Run 5\n",
      "-37272.7993788333 (((x2 + _a1_) + -((_a1_ / _a0_))) * (x1 * cos(x2)))\n",
      "CPU times: user 1h 25min 4s, sys: 19.1 s, total: 1h 25min 23s\n",
      "Wall time: 1h 24min 15s\n"
     ]
    }
   ],
   "source": [
    "%%time\n",
    "best_description_lengths,lowest_mdl, best_model = [],np.inf, None\n",
    "display_latex(best_model)\n",
    "for run in range(5):\n",
    "    # Initialize the parallel machine scientist\n",
    "    pms = Parallel(\n",
    "        Ts,\n",
    "        variables=XLABS,\n",
    "        parameters=['a%d' % i for i in range(2)],\n",
    "        x=x, y=y,\n",
    "        prior_par=prior_par,\n",
    "    )\n",
    "    # Number of MCMC steps\n",
    "    nstep = 5000\n",
    "\n",
    "    # Draw a progress bar to keep track of the MCMC progress\n",
    "    f = IntProgress(min=0, max=nstep, description='Running equilibration:') # instantiate the bar\n",
    "    #display(f)\n",
    "\n",
    "    # MCMC\n",
    "    for i in range(nstep):\n",
    "        # MCMC update\n",
    "        pms.mcmc_step() # MCMC step within each T\n",
    "        pms.tree_swap() # Attempt to swap two randomly selected consecutive temps\n",
    "        # Update the progress bar\n",
    "        f.value += 1\n",
    "        # Number of MCMC steps\n",
    "    nstep = 5000\n",
    "\n",
    "    # Draw a progress bar to keep track of the MCMC progress\n",
    "    f = IntProgress(min=0, max=nstep, description='Running production:') # instantiate the bar\n",
    "    #display(f)\n",
    "\n",
    "    # MCMC\n",
    "    description_lengths, mdl, mdl_model = [], np.inf, None\n",
    "    for i in range(nstep):\n",
    "        # MCMC update\n",
    "        pms.mcmc_step() # MCMC step within each T\n",
    "        pms.tree_swap() # Attempt to swap two randomly selected consecutive temps\n",
    "        # Add the description length to the trace\n",
    "        description_lengths.append(pms.t1.E)\n",
    "        # Check if this is the MDL expression so far\n",
    "        if pms.t1.E < mdl:\n",
    "            mdl, mdl_model = pms.t1.E, deepcopy(pms.t1)\n",
    "        # Update the progress bar\n",
    "        f.value += 1\n",
    "    if best_model==None:\n",
    "        best_description_lengths,lowest_mdl,best_model=description_lengths,mdl, deepcopy(mdl_model)\n",
    "    if mdl<lowest_mdl:\n",
    "        best_description_lengths=deepcopy(description_lengths)\n",
    "        lowest_mdl=deepcopy(mdl)\n",
    "        best_model=deepcopy(mdl_model)\n",
    "    print(f\"Run {run+1}\")\n",
    "    print(mdl, mdl_model)"
   ]
  },
  {
   "cell_type": "markdown",
   "metadata": {},
   "source": [
    "So let's take a look at the objects we stored. Here is the best model sampled by the machine scientist:"
   ]
  },
  {
   "cell_type": "code",
   "execution_count": 5,
   "metadata": {},
   "outputs": [
    {
     "name": "stdout",
     "output_type": "stream",
     "text": [
      "Best model:\t (((x2 + _a1_) + -((_a1_ / _a0_))) * (x1 * cos(x2)))\n",
      "Desc. length:\t -37272.7993788333\n"
     ]
    }
   ],
   "source": [
    "print('Best model:\\t', best_model)\n",
    "print('Desc. length:\\t', lowest_mdl)"
   ]
  },
  {
   "cell_type": "markdown",
   "metadata": {},
   "source": [
    "And here is the trace of the description length:"
   ]
  },
  {
   "cell_type": "code",
   "execution_count": 6,
   "metadata": {},
   "outputs": [
    {
     "data": {
      "image/png": "[encoded data removed]",
      "text/plain": [
       "<Figure size 1080x360 with 1 Axes>"
      ]
     },
     "metadata": {
      "needs_background": "light"
     },
     "output_type": "display_data"
    }
   ],
   "source": [
    "plt.figure(figsize=(15, 5))\n",
    "plt.plot(best_description_lengths)\n",
    "plt.xlabel('MCMC step', fontsize=14)\n",
    "plt.ylabel('Description length', fontsize=14)\n",
    "plt.title('MDL model: $%s$' % best_model.latex())\n",
    "plt.show()"
   ]
  },
  {
   "cell_type": "markdown",
   "metadata": {},
   "source": [
    "## Making predictions with the Bayesian machine scientist "
   ]
  },
  {
   "cell_type": "markdown",
   "metadata": {},
   "source": [
    "Finally, we typically want to make predictions with models. In this regard, the interface of the machine scientist is similar to those in Scikit Learn: to make a prediction we call the `predict(x)` method, with an argument that has the same format as the training `x`, that is, a Pandas `DataFrame` with the exact same columns."
   ]
  },
  {
   "cell_type": "code",
   "execution_count": 7,
   "metadata": {},
   "outputs": [
    {
     "data": {
      "image/png": "[encoded data removed]",
      "text/plain": [
       "<Figure size 432x432 with 1 Axes>"
      ]
     },
     "metadata": {
      "needs_background": "light"
     },
     "output_type": "display_data"
    }
   ],
   "source": [
    "plt.figure(figsize=(6, 6))\n",
    "plt.scatter(best_model.predict(x), y)\n",
    "#plt.plot((-6, 0), (-6, 0))\n",
    "plt.xlabel('MDL model predictions', fontsize=14)\n",
    "plt.ylabel('Actual values', fontsize=14)\n",
    "plt.show()"
   ]
  },
  {
   "cell_type": "markdown",
   "metadata": {},
   "source": [
    "## Further refinements "
   ]
  },
  {
   "cell_type": "markdown",
   "metadata": {},
   "source": [
    "The examples above are only intended to illustrate how a basic MCMC would be implemented. In practice, there are other considerations that we kept in mind in all the experiments reported in the manuscriot, and that anyone using the code should too:\n",
    "- **Equilibration**: One should not start sampling until the MCMC has converged to the stationary distribution. Although determining when a sample is in equilibrium, a necessary condition is that the description length is not increasing or, more typically, decreasing. The trace of the description length should be flat (except for fluctuations) before we start collecting samples.\n",
    "- **Thinning**: MCMC samples should be thinned, so only one in, say, 100 samples are kept for the trace. Otherwise, one is getting highly correlated samples, which may lead to, for example, erroneous estimates of confidence intervals.\n",
    "- **Getting trapped**: Despite the parallel tempering, the MCMC can get trapped in local minima of the description length. For this, we typically keep track of the number of steps since the last `tree_swap()` move was accepted for each temperature. If a particular temperature has *not* accepted swaps in a long time, then we anneal the whole system, that is, we increase all temperatures and decrease them slowly back to equilibrium so as to escape the local minima. Using several restarts of the MCMC and comparing the results is also a convenient check.\n",
    "- **Memory issues**: By default, the machine scientist keeps a cache of all visited models, so as to avoid duplicates of previously considered models, as well as to speed up the process of obtaining the maximum likelihood estimators of the model parameters. For long MCMC chains this becomes memory intensive, so it may be convenient to periodically clean this cache (or, at least, old models in this cache) by reinitializing the `fit_pat` and `representative` attributes of the `Parallel` instance."
   ]
  },
  {
   "cell_type": "code",
   "execution_count": 8,
   "metadata": {},
   "outputs": [
    {
     "data": {
      "application/javascript": [
       "IPython.notebook.save_notebook()\n"
      ],
      "text/plain": [
       "<IPython.core.display.Javascript object>"
      ]
     },
     "metadata": {},
     "output_type": "display_data"
    }
   ],
   "source": [
    "%%javascript\n",
    "IPython.notebook.save_notebook()"
   ]
  },
  {
   "cell_type": "code",
   "execution_count": 9,
   "metadata": {},
   "outputs": [
    {
     "name": "stdout",
     "output_type": "stream",
     "text": [
      "T\n"
     ]
    },
    {
     "name": "stderr",
     "output_type": "stream",
     "text": [
      "[NbConvertApp] Converting notebook Tutorial-Copy1.ipynb to pdf\n",
      "[NbConvertApp] Support files will be in date_2021-11-19 10:05:18.473159_files/\n",
      "[NbConvertApp] Making directory ./date_2021-11-19 10:05:18.473159_files\n",
      "[NbConvertApp] Making directory ./date_2021-11-19 10:05:18.473159_files\n",
      "[NbConvertApp] Writing 59339 bytes to notebook.tex\n",
      "[NbConvertApp] Building PDF\n",
      "[NbConvertApp] Running xelatex 3 times: ['xelatex', 'notebook.tex', '-quiet']\n",
      "[NbConvertApp] Running bibtex 1 time: ['bibtex', 'notebook']\n",
      "[NbConvertApp] WARNING | bibtex had problems, most likely because there were no citations\n",
      "[NbConvertApp] PDF successfully created\n",
      "[NbConvertApp] Writing 110816 bytes to data/Tests/nd2pdf/date_2021-11-19 10:05:18.473159.pdf\n"
     ]
    }
   ],
   "source": [
    "save=input()\n",
    "if save=='T':\n",
    "    import os\n",
    "    from datetime import datetime\n",
    "    os.system(\"jupyter nbconvert --output-dir='./data/Tests/nd2pdf/' --output 'date_{}.pdf' --to pdf Tutorial-Copy1.ipynb\".format(datetime.now()))"
   ]
  },
  {
   "cell_type": "markdown",
   "metadata": {},
   "source": [
    "    \"\"\"\n",
    "    if i%2000==0:\n",
    "        print('Delete cache',len(pms.trees['1'].fit_par),len(pms.trees['1'].representative))\n",
    "        pms.trees['1'].fit_par={}\n",
    "        pms.trees['1'].representative={}\n",
    "print('Delete cache',len(pms.trees['1'].fit_par),len(pms.trees['1'].representative))\n",
    "print(pms.trees['1'].fit_par)\n",
    "pms.trees['1'].fit_par={}\n",
    "pms.trees['1'].representative={}     \"\"\"   "
   ]
  }
 ],
 "metadata": {
  "kernelspec": {
   "display_name": "Python 3 (ipykernel)",
   "language": "python",
   "name": "python3"
  },
  "language_info": {
   "codemirror_mode": {
    "name": "ipython",
    "version": 3
   },
   "file_extension": ".py",
   "mimetype": "text/x-python",
   "name": "python",
   "nbconvert_exporter": "python",
   "pygments_lexer": "ipython3",
   "version": "3.8.10"
  }
 },
 "nbformat": 4,
 "nbformat_minor": 2
}
