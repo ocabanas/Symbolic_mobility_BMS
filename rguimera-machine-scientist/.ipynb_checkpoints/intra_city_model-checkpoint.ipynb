{
 "cells": [
  {
   "cell_type": "markdown",
   "id": "b7380f00",
   "metadata": {},
   "source": [
    "# Project:\n",
    "- (Done)Fetch StatPhys4cities data: flows + metadata\n",
    "- (~Done)Plot maps: census block+coordinates, census block+trips. Extra: heat maps.\n",
    "- (~Done)Clean data: NaN, distance=0, inter-city trips,...\n",
    "- (Done)List of trips with number of trips\n",
    "- (Done)Compute distances\n",
    "- (Done)Build DataFrame y=flows, x=[distance,populations,+ more data]\n",
    "- (Done)Execute Machine Scinetist\n",
    "- Get models for different distance ranges: <5, <10, <15, <20\n",
    "- Implement repetition od MCMC to get de lowest mdl model\n",
    "- Use the function machine scientist\n",
    "- Extra: paralelize loops\n",
    "\n",
    "Questions:\n",
    "- How to compute de flow correctly or only use number of trips\n",
    "- Data cleaning criterion: inter-city trips\n",
    "- Method to compute distances with geopy, geodesic and great_circle\n",
    "- Sorting columns in greater and smaller mass\n",
    "- Some centroids may be wong: if centroid is not inside census zone, pick metadata coordinates¿correct centroid values?\n",
    "- Trip direction is important?\n",
    "- Normalize values such as white people,black people...\n",
    "\n",
    "Other:\n",
    "- Can we get data from https://datacommons.org/ (same year)\n",
    "\n",
    "Assumtions:\n",
    "- Discarded same GEOID trips\n",
    "- Discard population = 0"
   ]
  },
  {
   "cell_type": "code",
   "execution_count": 1,
   "id": "63672e79",
   "metadata": {},
   "outputs": [
    {
     "name": "stdout",
     "output_type": "stream",
     "text": [
      "Data:\n",
      "Length data: 409722\n",
      "Minimum distance: 0.0940915698873107 Largest distance: 138.22425574541157\n",
      "Lowes number of trips : 1.0 Largest number of trips: 1183.0\n",
      "Data:\n",
      "Length data: 500\n",
      "Minimum distance: 0.1971340130424068 Largest distance: 9.994092432765793\n",
      "Lowes number of trips : 2.0 Largest number of trips: 317.0\n"
     ]
    }
   ],
   "source": [
    "import sys\n",
    "import numpy as np \n",
    "import pandas as pd\n",
    "import warnings\n",
    "warnings.filterwarnings('ignore')\n",
    "\n",
    "import matplotlib.pyplot as plt\n",
    "from copy import deepcopy\n",
    "from ipywidgets import IntProgress\n",
    "from IPython.display import display\n",
    "\n",
    "sys.path.append('./')\n",
    "sys.path.append('./Prior/')\n",
    "from mcmc import *\n",
    "from parallel import *\n",
    "from fit_prior import read_prior_par\n",
    "data = pd.read_pickle('data/StatPhys4cities_data/checkpoint/DataFrame.pkl')\n",
    "    \n",
    "\n",
    "print('Data:')\n",
    "print('Length data:', len(data.index))\n",
    "print('Minimum distance:',data.d.min(),'Largest distance:',data.d.max())\n",
    "print('Lowes number of trips :',data.n_trips.min(),'Largest number of trips:',data.n_trips.max())\n",
    "XLABS = [\n",
    "    'd',\n",
    "    'popultn_0',\n",
    "    'popultn_1'    \n",
    "]\n",
    "x=data[(data['d'] < 10.)&(data['popultn_0']>0)&(data['popultn_1']>0)&(data['n_trips']>1)]\n",
    "x=x.sample(n=500)\n",
    "# Getting a Series for the number of trips\n",
    "y=x['n_trips'].squeeze()\n",
    "print('Data:')\n",
    "print('Length data:',len(x.index))\n",
    "print('Minimum distance:',x.d.min(),'Largest distance:',x.d.max())\n",
    "print('Lowes number of trips :',x.n_trips.min(),'Largest number of trips:',x.n_trips.max())"
   ]
  },
  {
   "cell_type": "markdown",
   "id": "7668c73f",
   "metadata": {},
   "source": [
    "## Initializing the Bayesian machine scienstist "
   ]
  },
  {
   "cell_type": "markdown",
   "id": "9083629a",
   "metadata": {},
   "source": [
    "We start by initializing the machine scientist. This involves three steps:\n",
    "- **Reading the prior hyperparameters.** The values of the hyperparameters depend on the number of variables `nv` and parameters `np`considered during the search. Many combinations of `nv` and `np` have hyperparameters calculated in the `Prior` directory. Otherwise, the hyperparameters should be fit. \n",
    "- **Setting the \"temperatures\" for the parallel tempering.** If you don't know what parallel tempering is, you can read it in the Methods section of the paper, or just leave it as is in the code. In general, more temperatures (here 20) lead to better sampling of the expression space (we use a maximum of 100 different temperatures)\n",
    "- **Initializing the (parallel) scientist.**"
   ]
  },
  {
   "cell_type": "code",
   "execution_count": 2,
   "id": "a7d7cfb6",
   "metadata": {},
   "outputs": [
    {
     "ename": "NameError",
     "evalue": "name 'p' is not defined",
     "output_type": "error",
     "traceback": [
      "\u001b[0;31m---------------------------------------------------------------------------\u001b[0m",
      "\u001b[0;31mNameError\u001b[0m                                 Traceback (most recent call last)",
      "\u001b[0;32m<timed exec>\u001b[0m in \u001b[0;36m<module>\u001b[0;34m\u001b[0m\n",
      "\u001b[0;32m~/Documents/rguimera-machine-scientist/machinescientist.py\u001b[0m in \u001b[0;36mmachinescientist\u001b[0;34m(x, y, XLABS, prior_par, resets, steps_prod, Ts)\u001b[0m\n\u001b[1;32m     40\u001b[0m         \u001b[0mdescription_lengths\u001b[0m\u001b[0;34m,\u001b[0m \u001b[0mmdl\u001b[0m\u001b[0;34m,\u001b[0m \u001b[0mmdl_model\u001b[0m \u001b[0;34m=\u001b[0m \u001b[0;34m[\u001b[0m\u001b[0;34m]\u001b[0m\u001b[0;34m,\u001b[0m \u001b[0mnp\u001b[0m\u001b[0;34m.\u001b[0m\u001b[0minf\u001b[0m\u001b[0;34m,\u001b[0m \u001b[0;32mNone\u001b[0m\u001b[0;34m\u001b[0m\u001b[0;34m\u001b[0m\u001b[0m\n\u001b[1;32m     41\u001b[0m         \u001b[0mlast_seen_by_can\u001b[0m\u001b[0;34m,\u001b[0m \u001b[0mlast_seen_by_str\u001b[0m \u001b[0;34m=\u001b[0m \u001b[0;34m{\u001b[0m\u001b[0;34m}\u001b[0m\u001b[0;34m,\u001b[0m \u001b[0;34m{\u001b[0m\u001b[0;34m}\u001b[0m\u001b[0;34m\u001b[0m\u001b[0;34m\u001b[0m\u001b[0m\n\u001b[0;32m---> 42\u001b[0;31m         \u001b[0;32mfor\u001b[0m \u001b[0mf\u001b[0m \u001b[0;32min\u001b[0m \u001b[0mp\u001b[0m\u001b[0;34m.\u001b[0m\u001b[0mtrees\u001b[0m\u001b[0;34m.\u001b[0m\u001b[0mvalues\u001b[0m\u001b[0;34m(\u001b[0m\u001b[0;34m)\u001b[0m\u001b[0;34m:\u001b[0m\u001b[0;34m\u001b[0m\u001b[0;34m\u001b[0m\u001b[0m\n\u001b[0m\u001b[1;32m     43\u001b[0m             \u001b[0mlast_seen_by_can\u001b[0m\u001b[0;34m[\u001b[0m\u001b[0mf\u001b[0m\u001b[0;34m.\u001b[0m\u001b[0mcanonical\u001b[0m\u001b[0;34m(\u001b[0m\u001b[0;34m)\u001b[0m\u001b[0;34m]\u001b[0m \u001b[0;34m=\u001b[0m \u001b[0;36m0\u001b[0m\u001b[0;34m\u001b[0m\u001b[0;34m\u001b[0m\u001b[0m\n\u001b[1;32m     44\u001b[0m             \u001b[0mlast_seen_by_str\u001b[0m\u001b[0;34m[\u001b[0m\u001b[0mstr\u001b[0m\u001b[0;34m(\u001b[0m\u001b[0mf\u001b[0m\u001b[0;34m)\u001b[0m\u001b[0;34m]\u001b[0m \u001b[0;34m=\u001b[0m \u001b[0;36m0\u001b[0m\u001b[0;34m\u001b[0m\u001b[0;34m\u001b[0m\u001b[0m\n",
      "\u001b[0;31mNameError\u001b[0m: name 'p' is not defined"
     ]
    }
   ],
   "source": [
    "%%time\n",
    "from machinescientist import machinescientist\n",
    "# Read the hyperparameters for the prior\n",
    "prior_par = read_prior_par('./Prior/final_prior_param_sq.named_equations.nv3.np3.2017-06-13 08:55:24.082204.dat')\n",
    "\n",
    "\n",
    "best_description_lengths,lowest_mdl,best_model = machinescientist(x=x,y=y,XLABS=XLABS,prior_par=prior_par,resets=5,\n",
    "                    steps_prod=5000\n",
    "                    )"
   ]
  },
  {
   "cell_type": "markdown",
   "id": "805d51f5",
   "metadata": {},
   "source": [
    "So let's take a look at the objects we stored. Here is the best model sampled by the machine scientist:"
   ]
  },
  {
   "cell_type": "code",
   "execution_count": 3,
   "id": "52976417",
   "metadata": {},
   "outputs": [
    {
     "ename": "NameError",
     "evalue": "name 'best_model' is not defined",
     "output_type": "error",
     "traceback": [
      "\u001b[0;31m---------------------------------------------------------------------------\u001b[0m",
      "\u001b[0;31mNameError\u001b[0m                                 Traceback (most recent call last)",
      "\u001b[0;32m/tmp/ipykernel_461938/1377620786.py\u001b[0m in \u001b[0;36m<module>\u001b[0;34m\u001b[0m\n\u001b[0;32m----> 1\u001b[0;31m \u001b[0mprint\u001b[0m\u001b[0;34m(\u001b[0m\u001b[0;34m'Best model:\\t'\u001b[0m\u001b[0;34m,\u001b[0m \u001b[0mbest_model\u001b[0m\u001b[0;34m)\u001b[0m\u001b[0;34m\u001b[0m\u001b[0;34m\u001b[0m\u001b[0m\n\u001b[0m\u001b[1;32m      2\u001b[0m \u001b[0mprint\u001b[0m\u001b[0;34m(\u001b[0m\u001b[0;34m'Desc. length:\\t'\u001b[0m\u001b[0;34m,\u001b[0m \u001b[0mlowest_mdl\u001b[0m\u001b[0;34m)\u001b[0m\u001b[0;34m\u001b[0m\u001b[0;34m\u001b[0m\u001b[0m\n",
      "\u001b[0;31mNameError\u001b[0m: name 'best_model' is not defined"
     ]
    }
   ],
   "source": [
    "print('Best model:\\t', best_model)\n",
    "print('Desc. length:\\t', lowest_mdl)"
   ]
  },
  {
   "cell_type": "markdown",
   "id": "e865d1c2",
   "metadata": {},
   "source": [
    "And here is the trace of the description length:"
   ]
  },
  {
   "cell_type": "code",
   "execution_count": null,
   "id": "6f2e21ec",
   "metadata": {},
   "outputs": [],
   "source": [
    "plt.figure(figsize=(15, 5))\n",
    "plt.plot(best_description_lengths)\n",
    "plt.xlabel('MCMC step', fontsize=14)\n",
    "plt.ylabel('Description length', fontsize=14)\n",
    "plt.title('MDL model: $%s$' % best_model.latex())\n",
    "plt.show()"
   ]
  },
  {
   "cell_type": "markdown",
   "id": "53414294",
   "metadata": {},
   "source": [
    "## Making predictions with the Bayesian machine scientist "
   ]
  },
  {
   "cell_type": "markdown",
   "id": "0fec915e",
   "metadata": {},
   "source": [
    "Finally, we typically want to make predictions with models. In this regard, the interface of the machine scientist is similar to those in Scikit Learn: to make a prediction we call the `predict(x)` method, with an argument that has the same format as the training `x`, that is, a Pandas `DataFrame` with the exact same columns."
   ]
  },
  {
   "cell_type": "code",
   "execution_count": null,
   "id": "2bc23003",
   "metadata": {},
   "outputs": [],
   "source": [
    "plt.figure(figsize=(6, 6))\n",
    "plt.scatter(best_model.predict(x), y)\n",
    "plt.plot((0, x.n_trips.max()), (0, x.n_trips.max()))\n",
    "plt.xlabel('MDL model predictions', fontsize=14)\n",
    "plt.ylabel('Actual values', fontsize=14)\n",
    "plt.show()"
   ]
  },
  {
   "cell_type": "code",
   "execution_count": null,
   "id": "ffe87c49",
   "metadata": {},
   "outputs": [],
   "source": [
    "%%javascript\n",
    "IPython.notebook.save_notebook()"
   ]
  },
  {
   "cell_type": "code",
   "execution_count": null,
   "id": "1a7c2b3a",
   "metadata": {},
   "outputs": [],
   "source": [
    "save=input()\n",
    "if save=='T':\n",
    "    import os\n",
    "    from datetime import datetime\n",
    "    #os.system('jupyter nbconvert --to pdf data/StatPhys4cities_data/nb2pdf/date_{}'.format(datetime.now()))\n",
    "    os.system(\"jupyter nbconvert --output-dir='./data/StatPhys4cities_data/nb2pdf/' --output 'date_{}.pdf' --to pdf intra_city_model.ipynb\".format(datetime.now()))"
   ]
  },
  {
   "cell_type": "code",
   "execution_count": null,
   "id": "65c588a9",
   "metadata": {},
   "outputs": [],
   "source": []
  }
 ],
 "metadata": {
  "kernelspec": {
   "display_name": "numba",
   "language": "python",
   "name": "numba"
  },
  "language_info": {
   "codemirror_mode": {
    "name": "ipython",
    "version": 3
   },
   "file_extension": ".py",
   "mimetype": "text/x-python",
   "name": "python",
   "nbconvert_exporter": "python",
   "pygments_lexer": "ipython3",
   "version": "3.8.10"
  }
 },
 "nbformat": 4,
 "nbformat_minor": 5
}
