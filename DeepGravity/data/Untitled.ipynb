{
 "cells": [
  {
   "cell_type": "code",
   "execution_count": 1,
   "id": "114535e6",
   "metadata": {},
   "outputs": [],
   "source": [
    "import pandas as pd"
   ]
  },
  {
   "cell_type": "code",
   "execution_count": 2,
   "id": "ae525ee8",
   "metadata": {
    "scrolled": true
   },
   "outputs": [
    {
     "data": {
      "text/html": [
       "<div>\n",
       "<style scoped>\n",
       "    .dataframe tbody tr th:only-of-type {\n",
       "        vertical-align: middle;\n",
       "    }\n",
       "\n",
       "    .dataframe tbody tr th {\n",
       "        vertical-align: top;\n",
       "    }\n",
       "\n",
       "    .dataframe thead th {\n",
       "        text-align: right;\n",
       "    }\n",
       "</style>\n",
       "<table border=\"1\" class=\"dataframe\">\n",
       "  <thead>\n",
       "    <tr style=\"text-align: right;\">\n",
       "      <th></th>\n",
       "      <th>data</th>\n",
       "      <th>target</th>\n",
       "    </tr>\n",
       "  </thead>\n",
       "  <tbody>\n",
       "    <tr>\n",
       "      <th>Altamont</th>\n",
       "      <td>[-1.0, -1.0, -1.0, -1.0, -1.0, -1.0, -1.0, -1....</td>\n",
       "      <td>[0.11492973, 0.13582593, 0.5349479, 0.13680913...</td>\n",
       "    </tr>\n",
       "    <tr>\n",
       "      <th>Lockport</th>\n",
       "      <td>[-1.0, -1.0, -1.0, -1.0, -1.0, -1.0, -1.0, -1....</td>\n",
       "      <td>[3.9062724, 0.9221304, 0.006021963, 0.00446644...</td>\n",
       "    </tr>\n",
       "    <tr>\n",
       "      <th>Head of the Harbor</th>\n",
       "      <td>[-1.0, -1.0, 51.0, -1.0, -1.0, -1.0, -1.0, -1....</td>\n",
       "      <td>[0.009700914, 0.0041640867, 4.695438, 0.006081...</td>\n",
       "    </tr>\n",
       "    <tr>\n",
       "      <th>Islandia</th>\n",
       "      <td>[74.0, -1.0, -1.0, -1.0, -1.0, -1.0, -1.0, -1....</td>\n",
       "      <td>[4.288552, 0.37454727, 0.07146096, 10.75723, 0...</td>\n",
       "    </tr>\n",
       "    <tr>\n",
       "      <th>Lake Grove</th>\n",
       "      <td>[-1.0, -1.0, -1.0, -1.0, -1.0, -1.0, -1.0, -1....</td>\n",
       "      <td>[10.353821, 0.0056388327, 1.3570336, 1.2314105...</td>\n",
       "    </tr>\n",
       "    <tr>\n",
       "      <th>...</th>\n",
       "      <td>...</td>\n",
       "      <td>...</td>\n",
       "    </tr>\n",
       "    <tr>\n",
       "      <th>Wyandanch</th>\n",
       "      <td>[50.0, -1.0, 90.0, -1.0, -1.0, 50.0, -1.0, -1....</td>\n",
       "      <td>[24.495459, 3.0194979, 135.99825, 28.311455, 0...</td>\n",
       "    </tr>\n",
       "    <tr>\n",
       "      <th>Yaphank</th>\n",
       "      <td>[743.0, -1.0, -1.0, -1.0, -1.0, -1.0, -1.0, 70...</td>\n",
       "      <td>[75.51061, 132.61046, 100.26669, 1.4960806, 0....</td>\n",
       "    </tr>\n",
       "    <tr>\n",
       "      <th>Zena</th>\n",
       "      <td>[-1.0, -1.0, -1.0, -1.0, -1.0, -1.0, -1.0, -1....</td>\n",
       "      <td>[0.33069757, 0.6567362, 0.01391836, 0.64255214...</td>\n",
       "    </tr>\n",
       "    <tr>\n",
       "      <th>University Gardens</th>\n",
       "      <td>[-1.0, -1.0, -1.0, -1.0, -1.0, -1.0, -1.0, -1....</td>\n",
       "      <td>[1.4492936, 7.953685, 0.037901014, 28.458996, ...</td>\n",
       "    </tr>\n",
       "    <tr>\n",
       "      <th>Williamson</th>\n",
       "      <td>[-1.0, -1.0, -1.0, -1.0, -1.0, -1.0, -1.0, -1....</td>\n",
       "      <td>[0.038701497, 0.0027523607, 0.003760894, 3.630...</td>\n",
       "    </tr>\n",
       "  </tbody>\n",
       "</table>\n",
       "<p>249 rows × 2 columns</p>\n",
       "</div>"
      ],
      "text/plain": [
       "                                                                 data  \\\n",
       "Altamont            [-1.0, -1.0, -1.0, -1.0, -1.0, -1.0, -1.0, -1....   \n",
       "Lockport            [-1.0, -1.0, -1.0, -1.0, -1.0, -1.0, -1.0, -1....   \n",
       "Head of the Harbor  [-1.0, -1.0, 51.0, -1.0, -1.0, -1.0, -1.0, -1....   \n",
       "Islandia            [74.0, -1.0, -1.0, -1.0, -1.0, -1.0, -1.0, -1....   \n",
       "Lake Grove          [-1.0, -1.0, -1.0, -1.0, -1.0, -1.0, -1.0, -1....   \n",
       "...                                                               ...   \n",
       "Wyandanch           [50.0, -1.0, 90.0, -1.0, -1.0, 50.0, -1.0, -1....   \n",
       "Yaphank             [743.0, -1.0, -1.0, -1.0, -1.0, -1.0, -1.0, 70...   \n",
       "Zena                [-1.0, -1.0, -1.0, -1.0, -1.0, -1.0, -1.0, -1....   \n",
       "University Gardens  [-1.0, -1.0, -1.0, -1.0, -1.0, -1.0, -1.0, -1....   \n",
       "Williamson          [-1.0, -1.0, -1.0, -1.0, -1.0, -1.0, -1.0, -1....   \n",
       "\n",
       "                                                               target  \n",
       "Altamont            [0.11492973, 0.13582593, 0.5349479, 0.13680913...  \n",
       "Lockport            [3.9062724, 0.9221304, 0.006021963, 0.00446644...  \n",
       "Head of the Harbor  [0.009700914, 0.0041640867, 4.695438, 0.006081...  \n",
       "Islandia            [4.288552, 0.37454727, 0.07146096, 10.75723, 0...  \n",
       "Lake Grove          [10.353821, 0.0056388327, 1.3570336, 1.2314105...  \n",
       "...                                                               ...  \n",
       "Wyandanch           [24.495459, 3.0194979, 135.99825, 28.311455, 0...  \n",
       "Yaphank             [75.51061, 132.61046, 100.26669, 1.4960806, 0....  \n",
       "Zena                [0.33069757, 0.6567362, 0.01391836, 0.64255214...  \n",
       "University Gardens  [1.4492936, 7.953685, 0.037901014, 28.458996, ...  \n",
       "Williamson          [0.038701497, 0.0027523607, 0.003760894, 3.630...  \n",
       "\n",
       "[249 rows x 2 columns]"
      ]
     },
     "execution_count": 2,
     "metadata": {},
     "output_type": "execute_result"
    }
   ],
   "source": [
    "pd.read_pickle('../results/fluxos_DG_NewYork.pkl')"
   ]
  },
  {
   "cell_type": "code",
   "execution_count": 7,
   "id": "692ea508",
   "metadata": {},
   "outputs": [
    {
     "name": "stdout",
     "output_type": "stream",
     "text": [
      "54245.0 23113.328\n",
      "2057 2057\n"
     ]
    }
   ],
   "source": [
    "df=pd.read_pickle('../results/fluxos_DG_Washington.pkl')\n",
    "test_labels=[]\n",
    "predictions=[]\n",
    "for j,k in zip(df.data,df.target):\n",
    "    for l,m in zip(j,k):\n",
    "        if l>-0.1:\n",
    "            if l==0:print(l,m);\n",
    "            test_labels.append(l)\n",
    "            predictions.append(m)\n",
    "        if m<0.:\n",
    "            print()\n",
    "print(max(test_labels),max(predictions))\n",
    "#if log_flows==True:\n",
    "#    predictions=np.exp(predictions)\n",
    "print(len(test_labels),len(predictions))"
   ]
  },
  {
   "cell_type": "code",
   "execution_count": null,
   "id": "a56506b6",
   "metadata": {},
   "outputs": [],
   "source": []
  }
 ],
 "metadata": {
  "kernelspec": {
   "display_name": "Python 3 (ipykernel)",
   "language": "python",
   "name": "python3"
  },
  "language_info": {
   "codemirror_mode": {
    "name": "ipython",
    "version": 3
   },
   "file_extension": ".py",
   "mimetype": "text/x-python",
   "name": "python",
   "nbconvert_exporter": "python",
   "pygments_lexer": "ipython3",
   "version": "3.8.10"
  }
 },
 "nbformat": 4,
 "nbformat_minor": 5
}
